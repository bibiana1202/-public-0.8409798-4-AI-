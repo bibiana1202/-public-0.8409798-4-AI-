{
  "nbformat": 4,
  "nbformat_minor": 0,
  "metadata": {
    "colab": {
      "provenance": []
    },
    "kernelspec": {
      "name": "python3",
      "display_name": "Python 3"
    },
    "language_info": {
      "name": "python"
    }
  },
  "cells": [
    {
      "cell_type": "code",
      "source": [
        "from google.colab import drive\n",
        "drive.mount('/content/drive')"
      ],
      "metadata": {
        "id": "snLizCXh-rTl"
      },
      "execution_count": null,
      "outputs": []
    },
    {
      "cell_type": "code",
      "execution_count": null,
      "metadata": {
        "id": "zzxpZeJBK_OC"
      },
      "outputs": [],
      "source": [
        "import numpy as np\n",
        "from PIL import Image\n",
        "import cv2\n",
        "import albumentations as A\n",
        "from albumentations.pytorch.transforms import ToTensorV2\n",
        "from sklearn.preprocessing import StandardScaler, LabelEncoder\n",
        "from torch.utils.data import Dataset, DataLoader\n",
        "from albumentations.core.serialization import Type"
      ]
    },
    {
      "cell_type": "code",
      "source": [
        "from tqdm import tqdm\n",
        "import os\n",
        "import pandas as pd\n",
        "import zipfile"
      ],
      "metadata": {
        "id": "Fra3ZinCLPEr"
      },
      "execution_count": null,
      "outputs": []
    },
    {
      "cell_type": "code",
      "source": [
        "CFG = {\n",
        "    'IMG_SIZE': 512,\n",
        "    'EPOCHS': 30,\n",
        "    'LEARNING_RATE':1e-4,\n",
        "    'BATCH_SIZE':16,\n",
        "    'SEED':41\n",
        "}"
      ],
      "metadata": {
        "id": "WmXU_SrKB5rC"
      },
      "execution_count": null,
      "outputs": []
    },
    {
      "cell_type": "code",
      "source": [
        "file_path = './content/'\n",
        "output_unzip = zipfile.ZipFile(\"/content/drive/MyDrive/open.zip\", \"r\")  # \"r\": read 모드\n",
        "output_unzip.extractall(file_path)\n",
        "output_unzip.close()"
      ],
      "metadata": {
        "id": "brdnkTnSBbkB"
      },
      "execution_count": null,
      "outputs": []
    },
    {
      "cell_type": "code",
      "source": [
        "PATH = '/content/drive/MyDrive/train_imgs/'\n",
        "file_name = os.listdir(PATH)"
      ],
      "metadata": {
        "id": "1Qs1A8Vl-O_j"
      },
      "execution_count": null,
      "outputs": []
    },
    {
      "cell_type": "markdown",
      "source": [
        "##증강 사용\n",
        "##B set Horizontalflip + shiftscalerotate\n"
      ],
      "metadata": {
        "id": "I_jL-BnX9qrx"
      }
    },
    {
      "cell_type": "code",
      "source": [
        "hflip_prob= float(0.5)\n",
        "ssr_prob= float(0.5) \n",
        "random_bc_prob= float(0.5)\n",
        "\n",
        "\n",
        "\n",
        "aug = A.Compose([\n",
        "                            A.HorizontalFlip(p=hflip_prob),\n",
        "                            # A.VerticalFlip(),\n",
        "                            A.ShiftScaleRotate(shift_limit=0.0625, scale_limit=0.1, rotate_limit=10),\n",
        "                            A.Resize(CFG['IMG_SIZE'],CFG['IMG_SIZE']),\n",
        "                            A.Normalize(mean=(0.485, 0.456, 0.406), std=(0.229, 0.224, 0.225), max_pixel_value=255.0, always_apply=False, p=1.0),\n",
        "                            ToTensorV2()\n",
        "\n",
        "                             ])\n",
        "\n",
        "aug = A.Compose([\n",
        "                            A.Resize(CFG['IMG_SIZE'],CFG['IMG_SIZE']),\n",
        "                            A.Normalize(mean=(0.485, 0.456, 0.406), std=(0.229, 0.224, 0.225), max_pixel_value=255.0, always_apply=False, p=1.0),\n",
        "                            ToTensorV2()\n",
        "])\n",
        "\n",
        "\n",
        "\n"
      ],
      "metadata": {
        "id": "XkRt5DCFMZm5"
      },
      "execution_count": null,
      "outputs": []
    },
    {
      "cell_type": "markdown",
      "source": [
        "##C set Horizontalflip + shiftscalerotate + eaualization + CLAHE"
      ],
      "metadata": {
        "id": "hkJVGdqUBtr4"
      }
    },
    {
      "cell_type": "code",
      "source": [
        "hflip_prob= float(0.5)\n",
        "ssr_prob= float(0.5) \n",
        "random_bc_prob= float(0.5)\n",
        "\n",
        "\n",
        "aug = A.Compose([\n",
        "                            A.HorizontalFlip(p=hflip_prob),\n",
        "                            # A.VerticalFlip(),\n",
        "                            A.ShiftScaleRotate(shift_limit=0.0625, scale_limit=0.1, rotate_limit=10, p=ssr_prob),\n",
        "                            # A.Rotate(limit=90, border_mode=cv2.BORDER_CONSTANT,p=0.3),\n",
        "                            A.CLAHE(clip_limit=(1,4), p = 1),\n",
        "                            A.equalize,\n",
        "                            A.Resize(CFG['IMG_SIZE'],CFG['IMG_SIZE']),\n",
        "                            A.Normalize(mean=(0.485, 0.456, 0.406), std=(0.229, 0.224, 0.225), max_pixel_value=255.0, always_apply=False, p=1.0),\n",
        "                            ToTensorV2()\n",
        "\n",
        "                             ])\n",
        "\n",
        "\n",
        "aug = A.Compose([\n",
        "                            A.Resize(CFG['IMG_SIZE'],CFG['IMG_SIZE']),\n",
        "                            A.Normalize(mean=(0.485, 0.456, 0.406), std=(0.229, 0.224, 0.225), max_pixel_value=255.0, always_apply=False, p=1.0),\n",
        "                            ToTensorV2()\n",
        "])\n"
      ],
      "metadata": {
        "id": "z1quC9kB9xe6"
      },
      "execution_count": null,
      "outputs": []
    },
    {
      "cell_type": "markdown",
      "source": [
        "##D set Horizontalflip + shiftscalerotate + eaualization + CLAHE + Affine + centercrop"
      ],
      "metadata": {
        "id": "R6agiJgwEtZ_"
      }
    },
    {
      "cell_type": "code",
      "source": [
        "hflip_prob= float(0.5)\n",
        "ssr_prob= float(0.5) \n",
        "random_bc_prob= float(0.5)\n",
        "\n",
        "\n",
        "\n",
        "aug = A.Compose([\n",
        "                            A.HorizontalFlip(p=hflip_prob),\n",
        "                            # A.VerticalFlip(),\n",
        "                            # A.Rotate(limit=90, border_mode=cv2.BORDER_CONSTANT,p=0.3),\n",
        "                            # A.RandomResizedCrop(CFG['IMG_SIZE'],CFG['IMG_SIZE'], scale=(0.9,1), p = 1),\n",
        "                            A.ShiftScaleRotate(shift_limit=0.0625, scale_limit=0.1, rotate_limit=10, p=ssr_prob),\n",
        "                            A.CLAHE(clip_limit=(1,4), p = 1),\n",
        "                            A.equalize,\n",
        "                            A.CenterCrop(200, 200),\n",
        "                            A.Affine(always_apply=False, scale = 1.2, p=0.5),\n",
        "                            A.Resize(CFG['IMG_SIZE'],CFG['IMG_SIZE']),\n",
        "                            A.Normalize(mean=(0.485, 0.456, 0.406), std=(0.229, 0.224, 0.225), max_pixel_value=255.0, always_apply=False, p=1.0),\n",
        "                            ToTensorV2()\n",
        "\n",
        "                             ])\n",
        "\n",
        "aug = A.Compose([\n",
        "                            A.Resize(CFG['IMG_SIZE'],CFG['IMG_SIZE']),\n",
        "                            A.Normalize(mean=(0.485, 0.456, 0.406), std=(0.229, 0.224, 0.225), max_pixel_value=255.0, always_apply=False, p=1.0),\n",
        "                            ToTensorV2()\n",
        "                            ])"
      ],
      "metadata": {
        "id": "jp5e3SxGFRZn"
      },
      "execution_count": null,
      "outputs": []
    },
    {
      "cell_type": "code",
      "source": [
        "for i in file_name:\n",
        "    file_path = '/content/open/train_imgs/'+ i \n",
        "    img = cv2.imread(file_path)\n",
        "    imgg = aug(image = img)\n",
        "    array = imgg['image']\n",
        "\n",
        "    for j in range(2): # 증강 사진 개수 늘리는 부분 e.g.)1000장 일 경우 ()안의 수 : 1, 2000장일 경우 ()안의 수 : 2\n",
        "      i = i.replace('.png', '')\n",
        "      cv2.imwrite(f'/content/train_img/{i}__C{j}.png', array) # 이미지 저장하는 부분"
      ],
      "metadata": {
        "id": "N5MC7g7J7TCN"
      },
      "execution_count": null,
      "outputs": []
    }
  ]
}