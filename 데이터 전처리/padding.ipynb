{
  "nbformat": 4,
  "nbformat_minor": 0,
  "metadata": {
    "colab": {
      "provenance": []
    },
    "kernelspec": {
      "name": "python3",
      "display_name": "Python 3"
    },
    "language_info": {
      "name": "python"
    }
  },
  "cells": [
    {
      "cell_type": "code",
      "execution_count": null,
      "metadata": {
        "id": "mys3S-rUy8xi"
      },
      "outputs": [],
      "source": [
        "import cv2\n",
        "import numpy as np\n",
        "import albumentations as A\n",
        "from tqdm import tqdm\n",
        "import os\n",
        "\n",
        "IMAGE_SIZE = 512\n",
        "INPUT_PATH = 'IMAGE_FOLDER'\n",
        "OUTPUT_PATH = 'TRANS_IMAGE_FOLDER'\n",
        "\n",
        "transforms = A.Compose([\n",
        "  A.LongestMaxSize(max_size=IMAGE_SIZE),\n",
        "  A.PadIfNeeded(min_width=IMAGE_SIZE, min_height=IMAGE_SIZE, border_mode=cv2.BORDER_CONSTANT),\n",
        "])\n",
        "\n",
        "os.makedirs(OUTPUT_PATH, exist_ok=True)\n",
        "\n",
        "for img in tqdm(os.listdir(INPUT_PATH)):\n",
        "  \n",
        "  IMAGE_PATH = os.path.join(INPUT_PATH, img)\n",
        "  img_array = cv2.imread(IMAGE_PATH)\n",
        "\n",
        "  trs = transforms(image = img_array)['image']\n",
        "  cv2.imwrite(os.path.join(OUTPUT_PATH, img), trs)"
      ]
    }
  ]
}