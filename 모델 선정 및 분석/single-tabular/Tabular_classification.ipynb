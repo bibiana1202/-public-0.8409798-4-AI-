{
  "nbformat": 4,
  "nbformat_minor": 0,
  "metadata": {
    "colab": {
      "provenance": []
    },
    "kernelspec": {
      "name": "python3",
      "display_name": "Python 3"
    },
    "language_info": {
      "name": "python"
    }
  },
  "cells": [
    {
      "cell_type": "code",
      "execution_count": null,
      "metadata": {
        "colab": {
          "base_uri": "https://localhost:8080/"
        },
        "id": "h2G5i6EyueAS",
        "outputId": "f47ab018-c83a-4e3e-eb02-17164edddb09"
      },
      "outputs": [
        {
          "output_type": "stream",
          "name": "stdout",
          "text": [
            "Looking in indexes: https://pypi.org/simple, https://us-python.pkg.dev/colab-wheels/public/simple/\n",
            "Collecting catboost\n",
            "  Downloading catboost-1.1.1-cp38-none-manylinux1_x86_64.whl (76.6 MB)\n",
            "\u001b[K     |████████████████████████████████| 76.6 MB 1.2 MB/s \n",
            "\u001b[?25hRequirement already satisfied: numpy>=1.16.0 in /usr/local/lib/python3.8/dist-packages (from catboost) (1.21.6)\n",
            "Requirement already satisfied: scipy in /usr/local/lib/python3.8/dist-packages (from catboost) (1.7.3)\n",
            "Requirement already satisfied: pandas>=0.24.0 in /usr/local/lib/python3.8/dist-packages (from catboost) (1.3.5)\n",
            "Requirement already satisfied: plotly in /usr/local/lib/python3.8/dist-packages (from catboost) (5.5.0)\n",
            "Requirement already satisfied: matplotlib in /usr/local/lib/python3.8/dist-packages (from catboost) (3.2.2)\n",
            "Requirement already satisfied: graphviz in /usr/local/lib/python3.8/dist-packages (from catboost) (0.10.1)\n",
            "Requirement already satisfied: six in /usr/local/lib/python3.8/dist-packages (from catboost) (1.15.0)\n",
            "Requirement already satisfied: python-dateutil>=2.7.3 in /usr/local/lib/python3.8/dist-packages (from pandas>=0.24.0->catboost) (2.8.2)\n",
            "Requirement already satisfied: pytz>=2017.3 in /usr/local/lib/python3.8/dist-packages (from pandas>=0.24.0->catboost) (2022.6)\n",
            "Requirement already satisfied: pyparsing!=2.0.4,!=2.1.2,!=2.1.6,>=2.0.1 in /usr/local/lib/python3.8/dist-packages (from matplotlib->catboost) (3.0.9)\n",
            "Requirement already satisfied: cycler>=0.10 in /usr/local/lib/python3.8/dist-packages (from matplotlib->catboost) (0.11.0)\n",
            "Requirement already satisfied: kiwisolver>=1.0.1 in /usr/local/lib/python3.8/dist-packages (from matplotlib->catboost) (1.4.4)\n",
            "Requirement already satisfied: tenacity>=6.2.0 in /usr/local/lib/python3.8/dist-packages (from plotly->catboost) (8.1.0)\n",
            "Installing collected packages: catboost\n",
            "Successfully installed catboost-1.1.1\n"
          ]
        }
      ],
      "source": [
        "!pip install catboost"
      ]
    },
    {
      "cell_type": "code",
      "execution_count": null,
      "metadata": {
        "colab": {
          "base_uri": "https://localhost:8080/"
        },
        "id": "3yDu87arWYq0",
        "outputId": "e6857513-a478-4c27-ccd6-db94d5a3ed92"
      },
      "outputs": [
        {
          "output_type": "stream",
          "name": "stdout",
          "text": [
            "Looking in indexes: https://pypi.org/simple, https://us-python.pkg.dev/colab-wheels/public/simple/\n",
            "Requirement already satisfied: xgboost in /usr/local/lib/python3.8/dist-packages (0.90)\n",
            "Requirement already satisfied: scipy in /usr/local/lib/python3.8/dist-packages (from xgboost) (1.7.3)\n",
            "Requirement already satisfied: numpy in /usr/local/lib/python3.8/dist-packages (from xgboost) (1.21.6)\n"
          ]
        }
      ],
      "source": [
        "!pip install xgboost"
      ]
    },
    {
      "cell_type": "code",
      "source": [
        "\n",
        "\n",
        "import numpy as np # linear algebra\n",
        "import pandas as pd # data processing, CSV file I/O (e.g. pd.read_csv)\n",
        "import matplotlib.pyplot as plt # data visualization\n",
        "import seaborn as sns # statistical data visualization\n",
        "import random\n",
        "\n",
        "\n",
        "# Input data files are available in the \"../input/\" directory.\n",
        "# For example, running this (by clicking run or pressing Shift+Enter) will list all files under the input directory\n",
        "\n",
        "import os\n",
        "from sklearn.preprocessing import StandardScaler, LabelEncoder\n",
        "from sklearn.model_selection import train_test_split\n",
        "from sklearn.metrics import accuracy_score\n",
        "from sklearn.metrics import f1_score\n",
        "from sklearn.ensemble import AdaBoostClassifier\n",
        "\n",
        "import torch\n",
        "import torch.nn as nn\n",
        "import torch.optim as optim\n",
        "import torch.nn.functional as F\n",
        "from torch.utils.data import Dataset, DataLoader\n",
        "\n",
        "\n",
        "from catboost import CatBoostClassifier\n",
        "from xgboost import XGBClassifier\n",
        "from sklearn.ensemble import GradientBoostingClassifier\n",
        "import lightgbm as lgb\n",
        "from sklearn.ensemble import ExtraTreesClassifier\n",
        "from sklearn.linear_model import RidgeClassifier\n",
        "from sklearn.metrics import accuracy_score\n",
        "\n",
        "# Any results you write to the current directory are saved as output.\n",
        "# ignore warnings\n",
        "import warnings\n",
        "warnings.filterwarnings(\"ignore\")"
      ],
      "metadata": {
        "id": "sOtw34xwWiEs"
      },
      "execution_count": null,
      "outputs": []
    },
    {
      "cell_type": "code",
      "source": [
        "CFG = {\n",
        "    'IMG_SIZE':512,\n",
        "    'EPOCHS':5,\n",
        "    'LEARNING_RATE':1e-4,\n",
        "    'BATCH_SIZE':16,\n",
        "    'SEED':41\n",
        "}"
      ],
      "metadata": {
        "id": "-HGO3cSxWm59"
      },
      "execution_count": null,
      "outputs": []
    },
    {
      "cell_type": "code",
      "source": [
        "def seed_everything(seed):\n",
        "    random.seed(seed)\n",
        "    os.environ['PYTHONHASHSEED'] = str(seed)\n",
        "    np.random.seed(seed)\n",
        "    torch.manual_seed(seed)\n",
        "    torch.cuda.manual_seed(seed)\n",
        "    torch.backends.cudnn.deterministic = True\n",
        "    torch.backends.cudnn.benchmark = True\n",
        "\n",
        "seed_everything(CFG['SEED']) # Seed 고정"
      ],
      "metadata": {
        "id": "7oIXo4X50eJy"
      },
      "execution_count": null,
      "outputs": []
    },
    {
      "cell_type": "code",
      "source": [],
      "metadata": {
        "id": "E_DvfOp3KQnQ"
      },
      "execution_count": null,
      "outputs": []
    },
    {
      "cell_type": "code",
      "source": [
        "train_df = pd.read_csv('/content/drive/MyDrive/train.csv')\n",
        "test_df = pd.read_csv('/content/drive/MyDrive/test_cancer_cls.csv')\n",
        "train_df.loc[66,'PR_Allred_score'] = np.NaN\n",
        "train_df.loc[67,'PR_Allred_score'] = np.NaN\n",
        "\n",
        "target_name = ['N_category']\n",
        "\n",
        "# 범주형 변수\n",
        "cat_col_names = ['진단명','암의 위치', '암의 개수', 'NG','HG','HG_score_1','HG_score_2','HG_score_3','DCIS_or_LCIS_여부','DCIS_or_LCIS_type','T_category','ER','PR','HER2','HER2_IHC','HER2_SISH','BRCA_mutation']\n",
        "\n",
        "#수치형 \n",
        "num_col_names = ['나이','암의 장경','ER_Allred_score','PR_Allred_score','KI-67_LI_percent','HER2_SISH_ratio']\n",
        "\n",
        "\n",
        "train_df['암의 장경'] = train_df['암의 장경'].fillna(train_df['암의 장경'].median())\n",
        "train_df = train_df.fillna(0)\n",
        "\n",
        "test_df['암의 장경'] = test_df['암의 장경'].fillna(train_df['암의 장경'].median())\n",
        "test_df = test_df.fillna(0)\n",
        "\n",
        "\n",
        "\n",
        "train_df = train_df.drop(['ID', 'img_path', 'mask_path', '수술연월일'], axis =1)\n",
        "test_df = test_df.drop(['ID', 'img_path', '수술연월일'], axis = 1)\n"
      ],
      "metadata": {
        "id": "THROgxnHWtHr"
      },
      "execution_count": null,
      "outputs": []
    },
    {
      "cell_type": "code",
      "source": [
        "X_train, X_test, y_train, y_test = train_test_split(\n",
        "                                                    train_df.drop(columns=['N_category']), \n",
        "                                                    train_df['N_category'], \n",
        "                                                    test_size=0.1, \n",
        "                                                    random_state=CFG['SEED'])"
      ],
      "metadata": {
        "id": "7gVp1lfer1yy"
      },
      "execution_count": null,
      "outputs": []
    },
    {
      "cell_type": "code",
      "source": [
        "def get_values(value):\n",
        "    return value.values.reshape(-1, 1)\n",
        "\n",
        "numeric_cols = ['나이', '암의 장경', 'ER_Allred_score', 'PR_Allred_score', 'KI-67_LI_percent', 'HER2_SISH_ratio']\n",
        "ignore_cols = ['ID', 'img_path', 'mask_path', '수술연월일', 'N_category']\n",
        "\n",
        "for col in train_df.columns:\n",
        "    if col in ignore_cols:\n",
        "        continue\n",
        "    if col in numeric_cols:\n",
        "        scaler = StandardScaler()\n",
        "        X_train[col] = scaler.fit_transform(get_values(X_train[col]))\n",
        "        X_test[col] = scaler.transform(get_values(X_test[col]))\n",
        "        test_df[col] = scaler.transform(get_values(test_df[col]))\n",
        "    else:\n",
        "        le = LabelEncoder()\n",
        "        X_train[col] = le.fit_transform(get_values(X_train[col]))\n",
        "        X_test[col] = le.transform(get_values(X_test[col]))\n",
        "        test_df[col] = le.transform(get_values(test_df[col]))"
      ],
      "metadata": {
        "id": "kG86ikZRXI1E"
      },
      "execution_count": null,
      "outputs": []
    },
    {
      "cell_type": "code",
      "source": [],
      "metadata": {
        "id": "_G8RVbc_1iA-"
      },
      "execution_count": null,
      "outputs": []
    },
    {
      "cell_type": "code",
      "source": [
        "clf = XGBClassifier() # 모델 선언\n",
        "\n",
        "clf.fit(X_train,y_train) # 모델 학습"
      ],
      "metadata": {
        "colab": {
          "base_uri": "https://localhost:8080/"
        },
        "id": "vmqs3d2QXoUV",
        "outputId": "4b620e1b-2a7b-4341-de72-3c2713842db0"
      },
      "execution_count": null,
      "outputs": [
        {
          "output_type": "execute_result",
          "data": {
            "text/plain": [
              "XGBClassifier()"
            ]
          },
          "metadata": {},
          "execution_count": 103
        }
      ]
    },
    {
      "cell_type": "code",
      "source": [
        "#mean 0\n",
        "y_pred=clf.predict(X_test) # 예측 라벨\n",
        "\n",
        "print(\"f1_score 각 분할의 정확도 기록 :\", f1_score(y_pred, y_test))"
      ],
      "metadata": {
        "colab": {
          "base_uri": "https://localhost:8080/"
        },
        "id": "5m1RfVPzmpSo",
        "outputId": "a1905e86-e39b-4ddf-ce76-d04ce48f1f0d"
      },
      "execution_count": null,
      "outputs": [
        {
          "output_type": "stream",
          "name": "stdout",
          "text": [
            "f1_score 각 분할의 정확도 기록 : 0.8000000000000002\n"
          ]
        }
      ]
    },
    {
      "cell_type": "code",
      "source": [
        "#mean 0\n",
        "y_pred=clf.predict(X_train) # 예측 라벨\n",
        "\n",
        "print(\"f1_score 각 분할의 정확도 기록 :\", f1_score(y_pred, y_train))"
      ],
      "metadata": {
        "colab": {
          "base_uri": "https://localhost:8080/"
        },
        "id": "A8d13j_OmpQD",
        "outputId": "91d27ebc-1d9d-4164-fd6e-3c8e04d1717d"
      },
      "execution_count": null,
      "outputs": [
        {
          "output_type": "stream",
          "name": "stdout",
          "text": [
            "f1_score 각 분할의 정확도 기록 : 0.8762322015334063\n"
          ]
        }
      ]
    },
    {
      "cell_type": "code",
      "source": [
        "y_pred=clf.predict(test_df) # 예측 라벨\n",
        "\n",
        "print(y_pred)"
      ],
      "metadata": {
        "colab": {
          "base_uri": "https://localhost:8080/"
        },
        "id": "vXXQWGPOrGds",
        "outputId": "d0617542-6809-4aa7-917e-673d5dc4144b"
      },
      "execution_count": null,
      "outputs": [
        {
          "output_type": "stream",
          "name": "stdout",
          "text": [
            "[1 0 0 0 1 1 1 1 1 1 0 1 1 0 0 0 1 0 1 1 1 1 0 1 0 1 1 0 1 0 1 0 1 1 1 1 0\n",
            " 1 1 1 1 1 1 1 1 1 1 1 1 0 1 1 1 1 1 1 1 0 0 1 1 1 1 1 1 1 1 1 1 1 1 1 1 1\n",
            " 1 1 0 1 1 0 1 0 1 0 0 0 1 0 1 0 0 0 1 0 1 1 1 1 1 1 1 1 1 1 1 1 0 0 1 0 1\n",
            " 1 1 0 0 1 0 0 1 1 0 1 1 1 1 1 1 0 0 1 0 1 0 0 1 0 0 0 0 1 0 0 1 0 0 1 1 0\n",
            " 0 1 1 1 0 0 0 0 0 0 1 1 1 1 0 0 0 0 0 0 1 1 0 1 0 1 0 1 0 0 1 0 1 0 0 0 0\n",
            " 0 0 0 0 0 0 1 0 0 0 1 0 1 0 0 0 0 0 0 1 0 0 0 0 1 0 0 0 1 0 1 0 0 0 1 0 1\n",
            " 1 0 1 0 1 0 0 0 0 1 1 0 1 0 1 0 1 1 0 1 0 0 0 1 0 0 0 0]\n"
          ]
        }
      ]
    },
    {
      "cell_type": "code",
      "source": [
        "y_pred=clf.predict(test_df) # 예측 라벨\n",
        "\n",
        "print(y_pred)"
      ],
      "metadata": {
        "colab": {
          "base_uri": "https://localhost:8080/"
        },
        "id": "XPWIL7Utkypn",
        "outputId": "e0993ffd-c52a-4c8d-e841-06c5d3aa65fc"
      },
      "execution_count": null,
      "outputs": [
        {
          "output_type": "stream",
          "name": "stdout",
          "text": [
            "[1 0 0 0 1 1 1 0 1 1 1 1 1 0 0 1 1 0 1 0 1 1 0 0 0 1 1 0 1 0 1 0 1 1 1 1 0\n",
            " 1 1 1 1 1 1 1 1 1 1 1 1 0 1 1 1 1 1 1 1 0 0 1 1 1 1 1 1 1 1 1 1 1 1 1 1 1\n",
            " 1 1 0 1 1 0 1 0 1 0 0 0 1 0 1 0 0 0 1 0 1 1 1 1 1 1 1 1 1 1 1 0 0 0 1 0 1\n",
            " 1 1 0 0 1 0 0 1 1 1 1 1 1 1 1 1 0 0 1 0 1 0 1 1 0 0 1 0 0 0 0 1 0 0 1 1 0\n",
            " 0 1 1 1 0 0 0 0 0 0 0 0 1 1 0 0 0 0 0 0 1 0 0 1 0 1 0 0 0 0 1 1 1 0 0 0 1\n",
            " 0 1 0 0 0 0 1 0 0 0 0 0 1 0 0 0 0 0 0 0 0 0 0 0 1 0 0 0 1 0 1 0 0 0 0 0 1\n",
            " 1 0 1 0 1 0 0 0 0 1 1 0 1 0 1 0 1 1 1 1 0 0 0 1 1 0 0 0]\n"
          ]
        }
      ]
    },
    {
      "cell_type": "code",
      "source": [
        "submit = pd.read_csv('/content/drive/MyDrive/sample_submission_cancer_cls.csv')\n",
        "submit['N_category'] = y_pred\n",
        "submit.to_csv('./XGBoost_submit_median.csv', index=False)"
      ],
      "metadata": {
        "id": "CXjFpq2gxrdk"
      },
      "execution_count": null,
      "outputs": []
    },
    {
      "cell_type": "code",
      "source": [],
      "metadata": {
        "id": "BkJnuf2B4j2h"
      },
      "execution_count": null,
      "outputs": []
    },
    {
      "cell_type": "code",
      "source": [],
      "metadata": {
        "id": "RdmhHi824juO"
      },
      "execution_count": null,
      "outputs": []
    },
    {
      "cell_type": "code",
      "source": [
        "clf = CatBoostClassifier() # 모델 선언\n",
        "\n",
        "clf.fit(X_train,y_train) # 모델 학습"
      ],
      "metadata": {
        "colab": {
          "base_uri": "https://localhost:8080/"
        },
        "outputId": "99a3deab-45ec-4f3b-b8f1-7fbc3033e252",
        "id": "h-Kz0lyV4kVU"
      },
      "execution_count": null,
      "outputs": [
        {
          "output_type": "stream",
          "name": "stdout",
          "text": [
            "Learning rate set to 0.009849\n",
            "0:\tlearn: 0.6888185\ttotal: 1.63ms\tremaining: 1.63s\n",
            "1:\tlearn: 0.6841352\ttotal: 3.42ms\tremaining: 1.71s\n",
            "2:\tlearn: 0.6796271\ttotal: 5.3ms\tremaining: 1.76s\n",
            "3:\tlearn: 0.6755526\ttotal: 7.1ms\tremaining: 1.77s\n",
            "4:\tlearn: 0.6706491\ttotal: 8.88ms\tremaining: 1.77s\n",
            "5:\tlearn: 0.6660234\ttotal: 10.5ms\tremaining: 1.75s\n",
            "6:\tlearn: 0.6629028\ttotal: 11.8ms\tremaining: 1.67s\n",
            "7:\tlearn: 0.6585016\ttotal: 13.4ms\tremaining: 1.66s\n",
            "8:\tlearn: 0.6538380\ttotal: 15.2ms\tremaining: 1.68s\n",
            "9:\tlearn: 0.6495908\ttotal: 16.9ms\tremaining: 1.67s\n",
            "10:\tlearn: 0.6459506\ttotal: 18.5ms\tremaining: 1.67s\n",
            "11:\tlearn: 0.6415129\ttotal: 20.3ms\tremaining: 1.67s\n",
            "12:\tlearn: 0.6382938\ttotal: 22ms\tremaining: 1.67s\n",
            "13:\tlearn: 0.6344858\ttotal: 23.8ms\tremaining: 1.68s\n",
            "14:\tlearn: 0.6307742\ttotal: 25.6ms\tremaining: 1.68s\n",
            "15:\tlearn: 0.6275921\ttotal: 27.9ms\tremaining: 1.72s\n",
            "16:\tlearn: 0.6238833\ttotal: 29.9ms\tremaining: 1.73s\n",
            "17:\tlearn: 0.6211315\ttotal: 31.5ms\tremaining: 1.72s\n",
            "18:\tlearn: 0.6178606\ttotal: 33.3ms\tremaining: 1.72s\n",
            "19:\tlearn: 0.6148710\ttotal: 35.1ms\tremaining: 1.72s\n",
            "20:\tlearn: 0.6117261\ttotal: 36.9ms\tremaining: 1.72s\n",
            "21:\tlearn: 0.6082248\ttotal: 38.9ms\tremaining: 1.73s\n",
            "22:\tlearn: 0.6044555\ttotal: 41ms\tremaining: 1.74s\n",
            "23:\tlearn: 0.6008137\ttotal: 42.7ms\tremaining: 1.74s\n",
            "24:\tlearn: 0.5974589\ttotal: 44.4ms\tremaining: 1.73s\n",
            "25:\tlearn: 0.5947321\ttotal: 46.2ms\tremaining: 1.73s\n",
            "26:\tlearn: 0.5913769\ttotal: 48ms\tremaining: 1.73s\n",
            "27:\tlearn: 0.5892603\ttotal: 49.9ms\tremaining: 1.73s\n",
            "28:\tlearn: 0.5865936\ttotal: 51.7ms\tremaining: 1.73s\n",
            "29:\tlearn: 0.5837448\ttotal: 53.4ms\tremaining: 1.73s\n",
            "30:\tlearn: 0.5816433\ttotal: 55.1ms\tremaining: 1.72s\n",
            "31:\tlearn: 0.5790622\ttotal: 56.7ms\tremaining: 1.72s\n",
            "32:\tlearn: 0.5764750\ttotal: 58.4ms\tremaining: 1.71s\n",
            "33:\tlearn: 0.5738513\ttotal: 60.1ms\tremaining: 1.71s\n",
            "34:\tlearn: 0.5715720\ttotal: 61.8ms\tremaining: 1.7s\n",
            "35:\tlearn: 0.5692742\ttotal: 63.5ms\tremaining: 1.7s\n",
            "36:\tlearn: 0.5674682\ttotal: 65.2ms\tremaining: 1.7s\n",
            "37:\tlearn: 0.5646752\ttotal: 66.9ms\tremaining: 1.69s\n",
            "38:\tlearn: 0.5623585\ttotal: 68.7ms\tremaining: 1.69s\n",
            "39:\tlearn: 0.5599029\ttotal: 70.4ms\tremaining: 1.69s\n",
            "40:\tlearn: 0.5575460\ttotal: 73ms\tremaining: 1.71s\n",
            "41:\tlearn: 0.5551793\ttotal: 74.9ms\tremaining: 1.71s\n",
            "42:\tlearn: 0.5528919\ttotal: 79.2ms\tremaining: 1.76s\n",
            "43:\tlearn: 0.5506384\ttotal: 83.4ms\tremaining: 1.81s\n",
            "44:\tlearn: 0.5484099\ttotal: 87.6ms\tremaining: 1.86s\n",
            "45:\tlearn: 0.5464201\ttotal: 94ms\tremaining: 1.95s\n",
            "46:\tlearn: 0.5448741\ttotal: 97.7ms\tremaining: 1.98s\n",
            "47:\tlearn: 0.5425216\ttotal: 105ms\tremaining: 2.08s\n",
            "48:\tlearn: 0.5406441\ttotal: 110ms\tremaining: 2.14s\n",
            "49:\tlearn: 0.5396169\ttotal: 112ms\tremaining: 2.13s\n",
            "50:\tlearn: 0.5373687\ttotal: 114ms\tremaining: 2.13s\n",
            "51:\tlearn: 0.5359290\ttotal: 117ms\tremaining: 2.13s\n",
            "52:\tlearn: 0.5341962\ttotal: 118ms\tremaining: 2.11s\n",
            "53:\tlearn: 0.5328069\ttotal: 121ms\tremaining: 2.11s\n",
            "54:\tlearn: 0.5306352\ttotal: 126ms\tremaining: 2.16s\n",
            "55:\tlearn: 0.5292784\ttotal: 128ms\tremaining: 2.15s\n",
            "56:\tlearn: 0.5273636\ttotal: 129ms\tremaining: 2.14s\n",
            "57:\tlearn: 0.5258238\ttotal: 131ms\tremaining: 2.13s\n",
            "58:\tlearn: 0.5238871\ttotal: 133ms\tremaining: 2.12s\n",
            "59:\tlearn: 0.5226265\ttotal: 135ms\tremaining: 2.11s\n",
            "60:\tlearn: 0.5207762\ttotal: 137ms\tremaining: 2.1s\n",
            "61:\tlearn: 0.5189816\ttotal: 138ms\tremaining: 2.09s\n",
            "62:\tlearn: 0.5175801\ttotal: 140ms\tremaining: 2.08s\n",
            "63:\tlearn: 0.5159785\ttotal: 142ms\tremaining: 2.07s\n",
            "64:\tlearn: 0.5143021\ttotal: 144ms\tremaining: 2.06s\n",
            "65:\tlearn: 0.5127704\ttotal: 145ms\tremaining: 2.06s\n",
            "66:\tlearn: 0.5116772\ttotal: 147ms\tremaining: 2.05s\n",
            "67:\tlearn: 0.5100528\ttotal: 149ms\tremaining: 2.04s\n",
            "68:\tlearn: 0.5083669\ttotal: 150ms\tremaining: 2.03s\n",
            "69:\tlearn: 0.5069812\ttotal: 152ms\tremaining: 2.02s\n",
            "70:\tlearn: 0.5057296\ttotal: 154ms\tremaining: 2.02s\n",
            "71:\tlearn: 0.5043694\ttotal: 156ms\tremaining: 2.01s\n",
            "72:\tlearn: 0.5029844\ttotal: 158ms\tremaining: 2s\n",
            "73:\tlearn: 0.5013455\ttotal: 160ms\tremaining: 2s\n",
            "74:\tlearn: 0.4999830\ttotal: 162ms\tremaining: 2s\n",
            "75:\tlearn: 0.4983470\ttotal: 164ms\tremaining: 1.99s\n",
            "76:\tlearn: 0.4972377\ttotal: 165ms\tremaining: 1.98s\n",
            "77:\tlearn: 0.4957869\ttotal: 167ms\tremaining: 1.98s\n",
            "78:\tlearn: 0.4945879\ttotal: 169ms\tremaining: 1.97s\n",
            "79:\tlearn: 0.4933983\ttotal: 171ms\tremaining: 1.96s\n",
            "80:\tlearn: 0.4919821\ttotal: 172ms\tremaining: 1.96s\n",
            "81:\tlearn: 0.4908731\ttotal: 174ms\tremaining: 1.95s\n",
            "82:\tlearn: 0.4897344\ttotal: 176ms\tremaining: 1.94s\n",
            "83:\tlearn: 0.4884479\ttotal: 178ms\tremaining: 1.94s\n",
            "84:\tlearn: 0.4873950\ttotal: 179ms\tremaining: 1.93s\n",
            "85:\tlearn: 0.4862305\ttotal: 182ms\tremaining: 1.93s\n",
            "86:\tlearn: 0.4854694\ttotal: 184ms\tremaining: 1.93s\n",
            "87:\tlearn: 0.4841447\ttotal: 189ms\tremaining: 1.96s\n",
            "88:\tlearn: 0.4829874\ttotal: 190ms\tremaining: 1.95s\n",
            "89:\tlearn: 0.4822739\ttotal: 192ms\tremaining: 1.94s\n",
            "90:\tlearn: 0.4811454\ttotal: 194ms\tremaining: 1.94s\n",
            "91:\tlearn: 0.4798650\ttotal: 196ms\tremaining: 1.93s\n",
            "92:\tlearn: 0.4789564\ttotal: 197ms\tremaining: 1.93s\n",
            "93:\tlearn: 0.4781422\ttotal: 199ms\tremaining: 1.92s\n",
            "94:\tlearn: 0.4773552\ttotal: 201ms\tremaining: 1.91s\n",
            "95:\tlearn: 0.4761873\ttotal: 203ms\tremaining: 1.91s\n",
            "96:\tlearn: 0.4753710\ttotal: 204ms\tremaining: 1.9s\n",
            "97:\tlearn: 0.4744112\ttotal: 206ms\tremaining: 1.9s\n",
            "98:\tlearn: 0.4733031\ttotal: 208ms\tremaining: 1.89s\n",
            "99:\tlearn: 0.4718971\ttotal: 210ms\tremaining: 1.89s\n",
            "100:\tlearn: 0.4708247\ttotal: 212ms\tremaining: 1.88s\n",
            "101:\tlearn: 0.4699145\ttotal: 214ms\tremaining: 1.88s\n",
            "102:\tlearn: 0.4687983\ttotal: 215ms\tremaining: 1.88s\n",
            "103:\tlearn: 0.4681141\ttotal: 217ms\tremaining: 1.87s\n",
            "104:\tlearn: 0.4669586\ttotal: 219ms\tremaining: 1.86s\n",
            "105:\tlearn: 0.4658451\ttotal: 220ms\tremaining: 1.86s\n",
            "106:\tlearn: 0.4647202\ttotal: 222ms\tremaining: 1.85s\n",
            "107:\tlearn: 0.4636529\ttotal: 224ms\tremaining: 1.85s\n",
            "108:\tlearn: 0.4628038\ttotal: 226ms\tremaining: 1.84s\n",
            "109:\tlearn: 0.4619505\ttotal: 227ms\tremaining: 1.84s\n",
            "110:\tlearn: 0.4612562\ttotal: 229ms\tremaining: 1.84s\n",
            "111:\tlearn: 0.4603143\ttotal: 231ms\tremaining: 1.83s\n",
            "112:\tlearn: 0.4595151\ttotal: 233ms\tremaining: 1.83s\n",
            "113:\tlearn: 0.4587092\ttotal: 234ms\tremaining: 1.82s\n",
            "114:\tlearn: 0.4579014\ttotal: 236ms\tremaining: 1.82s\n",
            "115:\tlearn: 0.4567774\ttotal: 238ms\tremaining: 1.81s\n",
            "116:\tlearn: 0.4560122\ttotal: 240ms\tremaining: 1.81s\n",
            "117:\tlearn: 0.4549619\ttotal: 241ms\tremaining: 1.8s\n",
            "118:\tlearn: 0.4541558\ttotal: 243ms\tremaining: 1.8s\n",
            "119:\tlearn: 0.4534739\ttotal: 245ms\tremaining: 1.79s\n",
            "120:\tlearn: 0.4527778\ttotal: 247ms\tremaining: 1.79s\n",
            "121:\tlearn: 0.4520557\ttotal: 249ms\tremaining: 1.79s\n",
            "122:\tlearn: 0.4512009\ttotal: 251ms\tremaining: 1.79s\n",
            "123:\tlearn: 0.4503172\ttotal: 254ms\tremaining: 1.79s\n",
            "124:\tlearn: 0.4494393\ttotal: 256ms\tremaining: 1.79s\n",
            "125:\tlearn: 0.4488819\ttotal: 258ms\tremaining: 1.79s\n",
            "126:\tlearn: 0.4479775\ttotal: 259ms\tremaining: 1.78s\n",
            "127:\tlearn: 0.4473208\ttotal: 263ms\tremaining: 1.79s\n",
            "128:\tlearn: 0.4464791\ttotal: 264ms\tremaining: 1.78s\n",
            "129:\tlearn: 0.4457198\ttotal: 266ms\tremaining: 1.78s\n",
            "130:\tlearn: 0.4450934\ttotal: 268ms\tremaining: 1.78s\n",
            "131:\tlearn: 0.4442889\ttotal: 270ms\tremaining: 1.77s\n",
            "132:\tlearn: 0.4435929\ttotal: 271ms\tremaining: 1.77s\n",
            "133:\tlearn: 0.4428474\ttotal: 273ms\tremaining: 1.76s\n",
            "134:\tlearn: 0.4420734\ttotal: 275ms\tremaining: 1.76s\n",
            "135:\tlearn: 0.4416095\ttotal: 276ms\tremaining: 1.76s\n",
            "136:\tlearn: 0.4411792\ttotal: 278ms\tremaining: 1.75s\n",
            "137:\tlearn: 0.4408942\ttotal: 280ms\tremaining: 1.75s\n",
            "138:\tlearn: 0.4401575\ttotal: 282ms\tremaining: 1.74s\n",
            "139:\tlearn: 0.4394623\ttotal: 283ms\tremaining: 1.74s\n",
            "140:\tlearn: 0.4387888\ttotal: 285ms\tremaining: 1.74s\n",
            "141:\tlearn: 0.4381069\ttotal: 287ms\tremaining: 1.73s\n",
            "142:\tlearn: 0.4374262\ttotal: 288ms\tremaining: 1.73s\n",
            "143:\tlearn: 0.4370839\ttotal: 290ms\tremaining: 1.72s\n",
            "144:\tlearn: 0.4364387\ttotal: 292ms\tremaining: 1.72s\n",
            "145:\tlearn: 0.4355286\ttotal: 294ms\tremaining: 1.72s\n",
            "146:\tlearn: 0.4346912\ttotal: 296ms\tremaining: 1.72s\n",
            "147:\tlearn: 0.4341098\ttotal: 297ms\tremaining: 1.71s\n",
            "148:\tlearn: 0.4337719\ttotal: 299ms\tremaining: 1.71s\n",
            "149:\tlearn: 0.4332024\ttotal: 301ms\tremaining: 1.7s\n",
            "150:\tlearn: 0.4325838\ttotal: 302ms\tremaining: 1.7s\n",
            "151:\tlearn: 0.4316084\ttotal: 304ms\tremaining: 1.7s\n",
            "152:\tlearn: 0.4309026\ttotal: 306ms\tremaining: 1.69s\n",
            "153:\tlearn: 0.4304973\ttotal: 308ms\tremaining: 1.69s\n",
            "154:\tlearn: 0.4300497\ttotal: 310ms\tremaining: 1.69s\n",
            "155:\tlearn: 0.4292815\ttotal: 311ms\tremaining: 1.68s\n",
            "156:\tlearn: 0.4291139\ttotal: 313ms\tremaining: 1.68s\n",
            "157:\tlearn: 0.4286098\ttotal: 315ms\tremaining: 1.68s\n",
            "158:\tlearn: 0.4280285\ttotal: 317ms\tremaining: 1.67s\n",
            "159:\tlearn: 0.4275052\ttotal: 319ms\tremaining: 1.67s\n",
            "160:\tlearn: 0.4268920\ttotal: 320ms\tremaining: 1.67s\n",
            "161:\tlearn: 0.4262513\ttotal: 322ms\tremaining: 1.67s\n",
            "162:\tlearn: 0.4258596\ttotal: 324ms\tremaining: 1.66s\n",
            "163:\tlearn: 0.4254257\ttotal: 325ms\tremaining: 1.66s\n",
            "164:\tlearn: 0.4245951\ttotal: 327ms\tremaining: 1.66s\n",
            "165:\tlearn: 0.4239738\ttotal: 329ms\tremaining: 1.65s\n",
            "166:\tlearn: 0.4233751\ttotal: 331ms\tremaining: 1.65s\n",
            "167:\tlearn: 0.4224883\ttotal: 333ms\tremaining: 1.65s\n",
            "168:\tlearn: 0.4219760\ttotal: 335ms\tremaining: 1.65s\n",
            "169:\tlearn: 0.4214836\ttotal: 337ms\tremaining: 1.64s\n",
            "170:\tlearn: 0.4209755\ttotal: 338ms\tremaining: 1.64s\n",
            "171:\tlearn: 0.4202951\ttotal: 340ms\tremaining: 1.64s\n",
            "172:\tlearn: 0.4196803\ttotal: 342ms\tremaining: 1.63s\n",
            "173:\tlearn: 0.4189865\ttotal: 344ms\tremaining: 1.63s\n",
            "174:\tlearn: 0.4184142\ttotal: 345ms\tremaining: 1.63s\n",
            "175:\tlearn: 0.4177821\ttotal: 347ms\tremaining: 1.63s\n",
            "176:\tlearn: 0.4171430\ttotal: 349ms\tremaining: 1.62s\n",
            "177:\tlearn: 0.4168317\ttotal: 351ms\tremaining: 1.62s\n",
            "178:\tlearn: 0.4165658\ttotal: 353ms\tremaining: 1.62s\n",
            "179:\tlearn: 0.4161439\ttotal: 355ms\tremaining: 1.61s\n",
            "180:\tlearn: 0.4156606\ttotal: 357ms\tremaining: 1.61s\n",
            "181:\tlearn: 0.4153470\ttotal: 358ms\tremaining: 1.61s\n",
            "182:\tlearn: 0.4148081\ttotal: 360ms\tremaining: 1.61s\n",
            "183:\tlearn: 0.4144302\ttotal: 362ms\tremaining: 1.6s\n",
            "184:\tlearn: 0.4137946\ttotal: 364ms\tremaining: 1.6s\n",
            "185:\tlearn: 0.4134231\ttotal: 366ms\tremaining: 1.6s\n",
            "186:\tlearn: 0.4131217\ttotal: 367ms\tremaining: 1.6s\n",
            "187:\tlearn: 0.4125278\ttotal: 369ms\tremaining: 1.59s\n",
            "188:\tlearn: 0.4119897\ttotal: 371ms\tremaining: 1.59s\n",
            "189:\tlearn: 0.4113873\ttotal: 373ms\tremaining: 1.59s\n",
            "190:\tlearn: 0.4108695\ttotal: 376ms\tremaining: 1.59s\n",
            "191:\tlearn: 0.4105539\ttotal: 381ms\tremaining: 1.6s\n",
            "192:\tlearn: 0.4100996\ttotal: 382ms\tremaining: 1.6s\n",
            "193:\tlearn: 0.4094235\ttotal: 383ms\tremaining: 1.59s\n",
            "194:\tlearn: 0.4090899\ttotal: 385ms\tremaining: 1.59s\n",
            "195:\tlearn: 0.4084827\ttotal: 387ms\tremaining: 1.59s\n",
            "196:\tlearn: 0.4081172\ttotal: 389ms\tremaining: 1.58s\n",
            "197:\tlearn: 0.4077003\ttotal: 390ms\tremaining: 1.58s\n",
            "198:\tlearn: 0.4071813\ttotal: 392ms\tremaining: 1.58s\n",
            "199:\tlearn: 0.4069205\ttotal: 394ms\tremaining: 1.57s\n",
            "200:\tlearn: 0.4063915\ttotal: 395ms\tremaining: 1.57s\n",
            "201:\tlearn: 0.4058614\ttotal: 397ms\tremaining: 1.57s\n",
            "202:\tlearn: 0.4055711\ttotal: 399ms\tremaining: 1.56s\n",
            "203:\tlearn: 0.4051095\ttotal: 401ms\tremaining: 1.56s\n",
            "204:\tlearn: 0.4048981\ttotal: 402ms\tremaining: 1.56s\n",
            "205:\tlearn: 0.4045241\ttotal: 404ms\tremaining: 1.56s\n",
            "206:\tlearn: 0.4037925\ttotal: 406ms\tremaining: 1.55s\n",
            "207:\tlearn: 0.4033196\ttotal: 407ms\tremaining: 1.55s\n",
            "208:\tlearn: 0.4030048\ttotal: 409ms\tremaining: 1.55s\n",
            "209:\tlearn: 0.4024038\ttotal: 411ms\tremaining: 1.54s\n",
            "210:\tlearn: 0.4018001\ttotal: 412ms\tremaining: 1.54s\n",
            "211:\tlearn: 0.4013936\ttotal: 414ms\tremaining: 1.54s\n",
            "212:\tlearn: 0.4010944\ttotal: 416ms\tremaining: 1.54s\n",
            "213:\tlearn: 0.4006140\ttotal: 418ms\tremaining: 1.53s\n",
            "214:\tlearn: 0.4001213\ttotal: 419ms\tremaining: 1.53s\n",
            "215:\tlearn: 0.4000861\ttotal: 420ms\tremaining: 1.52s\n",
            "216:\tlearn: 0.3995582\ttotal: 422ms\tremaining: 1.52s\n",
            "217:\tlearn: 0.3990867\ttotal: 424ms\tremaining: 1.52s\n",
            "218:\tlearn: 0.3986129\ttotal: 425ms\tremaining: 1.52s\n",
            "219:\tlearn: 0.3982153\ttotal: 427ms\tremaining: 1.51s\n",
            "220:\tlearn: 0.3977558\ttotal: 429ms\tremaining: 1.51s\n",
            "221:\tlearn: 0.3970535\ttotal: 430ms\tremaining: 1.51s\n",
            "222:\tlearn: 0.3964992\ttotal: 432ms\tremaining: 1.5s\n",
            "223:\tlearn: 0.3960015\ttotal: 434ms\tremaining: 1.5s\n",
            "224:\tlearn: 0.3956589\ttotal: 436ms\tremaining: 1.5s\n",
            "225:\tlearn: 0.3952455\ttotal: 437ms\tremaining: 1.5s\n",
            "226:\tlearn: 0.3946916\ttotal: 439ms\tremaining: 1.49s\n",
            "227:\tlearn: 0.3942850\ttotal: 441ms\tremaining: 1.49s\n",
            "228:\tlearn: 0.3937390\ttotal: 442ms\tremaining: 1.49s\n",
            "229:\tlearn: 0.3933400\ttotal: 444ms\tremaining: 1.49s\n",
            "230:\tlearn: 0.3929762\ttotal: 446ms\tremaining: 1.48s\n",
            "231:\tlearn: 0.3925107\ttotal: 447ms\tremaining: 1.48s\n",
            "232:\tlearn: 0.3922771\ttotal: 449ms\tremaining: 1.48s\n",
            "233:\tlearn: 0.3919699\ttotal: 451ms\tremaining: 1.48s\n",
            "234:\tlearn: 0.3915531\ttotal: 452ms\tremaining: 1.47s\n",
            "235:\tlearn: 0.3911888\ttotal: 454ms\tremaining: 1.47s\n",
            "236:\tlearn: 0.3910187\ttotal: 456ms\tremaining: 1.47s\n",
            "237:\tlearn: 0.3907176\ttotal: 458ms\tremaining: 1.47s\n",
            "238:\tlearn: 0.3901059\ttotal: 459ms\tremaining: 1.46s\n",
            "239:\tlearn: 0.3897389\ttotal: 461ms\tremaining: 1.46s\n",
            "240:\tlearn: 0.3894579\ttotal: 463ms\tremaining: 1.46s\n",
            "241:\tlearn: 0.3891972\ttotal: 464ms\tremaining: 1.45s\n",
            "242:\tlearn: 0.3887769\ttotal: 466ms\tremaining: 1.45s\n",
            "243:\tlearn: 0.3884088\ttotal: 468ms\tremaining: 1.45s\n",
            "244:\tlearn: 0.3879468\ttotal: 470ms\tremaining: 1.45s\n",
            "245:\tlearn: 0.3875844\ttotal: 472ms\tremaining: 1.45s\n",
            "246:\tlearn: 0.3872167\ttotal: 473ms\tremaining: 1.44s\n",
            "247:\tlearn: 0.3868082\ttotal: 475ms\tremaining: 1.44s\n",
            "248:\tlearn: 0.3865045\ttotal: 477ms\tremaining: 1.44s\n",
            "249:\tlearn: 0.3861985\ttotal: 479ms\tremaining: 1.44s\n",
            "250:\tlearn: 0.3858226\ttotal: 480ms\tremaining: 1.43s\n",
            "251:\tlearn: 0.3854066\ttotal: 482ms\tremaining: 1.43s\n",
            "252:\tlearn: 0.3849617\ttotal: 484ms\tremaining: 1.43s\n",
            "253:\tlearn: 0.3844247\ttotal: 486ms\tremaining: 1.43s\n",
            "254:\tlearn: 0.3842267\ttotal: 487ms\tremaining: 1.42s\n",
            "255:\tlearn: 0.3837575\ttotal: 489ms\tremaining: 1.42s\n",
            "256:\tlearn: 0.3833845\ttotal: 491ms\tremaining: 1.42s\n",
            "257:\tlearn: 0.3830330\ttotal: 493ms\tremaining: 1.42s\n",
            "258:\tlearn: 0.3828622\ttotal: 494ms\tremaining: 1.41s\n",
            "259:\tlearn: 0.3824686\ttotal: 496ms\tremaining: 1.41s\n",
            "260:\tlearn: 0.3822495\ttotal: 498ms\tremaining: 1.41s\n",
            "261:\tlearn: 0.3819347\ttotal: 500ms\tremaining: 1.41s\n",
            "262:\tlearn: 0.3817570\ttotal: 502ms\tremaining: 1.41s\n",
            "263:\tlearn: 0.3813268\ttotal: 503ms\tremaining: 1.4s\n",
            "264:\tlearn: 0.3808523\ttotal: 505ms\tremaining: 1.4s\n",
            "265:\tlearn: 0.3806275\ttotal: 507ms\tremaining: 1.4s\n",
            "266:\tlearn: 0.3803338\ttotal: 509ms\tremaining: 1.4s\n",
            "267:\tlearn: 0.3799815\ttotal: 511ms\tremaining: 1.39s\n",
            "268:\tlearn: 0.3795783\ttotal: 512ms\tremaining: 1.39s\n",
            "269:\tlearn: 0.3791266\ttotal: 514ms\tremaining: 1.39s\n",
            "270:\tlearn: 0.3786072\ttotal: 516ms\tremaining: 1.39s\n",
            "271:\tlearn: 0.3782999\ttotal: 518ms\tremaining: 1.39s\n",
            "272:\tlearn: 0.3778818\ttotal: 519ms\tremaining: 1.38s\n",
            "273:\tlearn: 0.3773982\ttotal: 521ms\tremaining: 1.38s\n",
            "274:\tlearn: 0.3772139\ttotal: 523ms\tremaining: 1.38s\n",
            "275:\tlearn: 0.3766098\ttotal: 525ms\tremaining: 1.38s\n",
            "276:\tlearn: 0.3763671\ttotal: 527ms\tremaining: 1.37s\n",
            "277:\tlearn: 0.3759772\ttotal: 529ms\tremaining: 1.37s\n",
            "278:\tlearn: 0.3755789\ttotal: 530ms\tremaining: 1.37s\n",
            "279:\tlearn: 0.3752717\ttotal: 532ms\tremaining: 1.37s\n",
            "280:\tlearn: 0.3750896\ttotal: 534ms\tremaining: 1.36s\n",
            "281:\tlearn: 0.3749144\ttotal: 535ms\tremaining: 1.36s\n",
            "282:\tlearn: 0.3744983\ttotal: 537ms\tremaining: 1.36s\n",
            "283:\tlearn: 0.3741176\ttotal: 539ms\tremaining: 1.36s\n",
            "284:\tlearn: 0.3736478\ttotal: 541ms\tremaining: 1.36s\n",
            "285:\tlearn: 0.3734143\ttotal: 542ms\tremaining: 1.35s\n",
            "286:\tlearn: 0.3729209\ttotal: 544ms\tremaining: 1.35s\n",
            "287:\tlearn: 0.3725977\ttotal: 546ms\tremaining: 1.35s\n",
            "288:\tlearn: 0.3723141\ttotal: 548ms\tremaining: 1.35s\n",
            "289:\tlearn: 0.3721133\ttotal: 550ms\tremaining: 1.34s\n",
            "290:\tlearn: 0.3715356\ttotal: 552ms\tremaining: 1.34s\n",
            "291:\tlearn: 0.3711383\ttotal: 553ms\tremaining: 1.34s\n",
            "292:\tlearn: 0.3708035\ttotal: 555ms\tremaining: 1.34s\n",
            "293:\tlearn: 0.3705721\ttotal: 557ms\tremaining: 1.34s\n",
            "294:\tlearn: 0.3702511\ttotal: 558ms\tremaining: 1.33s\n",
            "295:\tlearn: 0.3697969\ttotal: 560ms\tremaining: 1.33s\n",
            "296:\tlearn: 0.3694360\ttotal: 566ms\tremaining: 1.34s\n",
            "297:\tlearn: 0.3690580\ttotal: 568ms\tremaining: 1.34s\n",
            "298:\tlearn: 0.3687355\ttotal: 570ms\tremaining: 1.34s\n",
            "299:\tlearn: 0.3683013\ttotal: 572ms\tremaining: 1.33s\n",
            "300:\tlearn: 0.3680642\ttotal: 574ms\tremaining: 1.33s\n",
            "301:\tlearn: 0.3678679\ttotal: 576ms\tremaining: 1.33s\n",
            "302:\tlearn: 0.3676270\ttotal: 578ms\tremaining: 1.33s\n",
            "303:\tlearn: 0.3672154\ttotal: 579ms\tremaining: 1.33s\n",
            "304:\tlearn: 0.3669904\ttotal: 581ms\tremaining: 1.32s\n",
            "305:\tlearn: 0.3667283\ttotal: 583ms\tremaining: 1.32s\n",
            "306:\tlearn: 0.3663546\ttotal: 585ms\tremaining: 1.32s\n",
            "307:\tlearn: 0.3661539\ttotal: 587ms\tremaining: 1.32s\n",
            "308:\tlearn: 0.3659230\ttotal: 589ms\tremaining: 1.32s\n",
            "309:\tlearn: 0.3656390\ttotal: 590ms\tremaining: 1.31s\n",
            "310:\tlearn: 0.3654567\ttotal: 592ms\tremaining: 1.31s\n",
            "311:\tlearn: 0.3650452\ttotal: 593ms\tremaining: 1.31s\n",
            "312:\tlearn: 0.3648832\ttotal: 594ms\tremaining: 1.3s\n",
            "313:\tlearn: 0.3646656\ttotal: 596ms\tremaining: 1.3s\n",
            "314:\tlearn: 0.3643537\ttotal: 598ms\tremaining: 1.3s\n",
            "315:\tlearn: 0.3640131\ttotal: 600ms\tremaining: 1.3s\n",
            "316:\tlearn: 0.3635526\ttotal: 601ms\tremaining: 1.29s\n",
            "317:\tlearn: 0.3633281\ttotal: 603ms\tremaining: 1.29s\n",
            "318:\tlearn: 0.3631807\ttotal: 605ms\tremaining: 1.29s\n",
            "319:\tlearn: 0.3628042\ttotal: 606ms\tremaining: 1.29s\n",
            "320:\tlearn: 0.3626371\ttotal: 608ms\tremaining: 1.29s\n",
            "321:\tlearn: 0.3623515\ttotal: 610ms\tremaining: 1.28s\n",
            "322:\tlearn: 0.3621706\ttotal: 611ms\tremaining: 1.28s\n",
            "323:\tlearn: 0.3617715\ttotal: 613ms\tremaining: 1.28s\n",
            "324:\tlearn: 0.3615448\ttotal: 615ms\tremaining: 1.28s\n",
            "325:\tlearn: 0.3613139\ttotal: 617ms\tremaining: 1.27s\n",
            "326:\tlearn: 0.3609573\ttotal: 618ms\tremaining: 1.27s\n",
            "327:\tlearn: 0.3606941\ttotal: 620ms\tremaining: 1.27s\n",
            "328:\tlearn: 0.3605575\ttotal: 622ms\tremaining: 1.27s\n",
            "329:\tlearn: 0.3602854\ttotal: 623ms\tremaining: 1.26s\n",
            "330:\tlearn: 0.3600966\ttotal: 625ms\tremaining: 1.26s\n",
            "331:\tlearn: 0.3597695\ttotal: 627ms\tremaining: 1.26s\n",
            "332:\tlearn: 0.3595643\ttotal: 628ms\tremaining: 1.26s\n",
            "333:\tlearn: 0.3593959\ttotal: 630ms\tremaining: 1.26s\n",
            "334:\tlearn: 0.3589872\ttotal: 632ms\tremaining: 1.25s\n",
            "335:\tlearn: 0.3588371\ttotal: 634ms\tremaining: 1.25s\n",
            "336:\tlearn: 0.3584538\ttotal: 635ms\tremaining: 1.25s\n",
            "337:\tlearn: 0.3581528\ttotal: 637ms\tremaining: 1.25s\n",
            "338:\tlearn: 0.3579746\ttotal: 639ms\tremaining: 1.25s\n",
            "339:\tlearn: 0.3576010\ttotal: 640ms\tremaining: 1.24s\n",
            "340:\tlearn: 0.3573065\ttotal: 642ms\tremaining: 1.24s\n",
            "341:\tlearn: 0.3571906\ttotal: 644ms\tremaining: 1.24s\n",
            "342:\tlearn: 0.3567930\ttotal: 646ms\tremaining: 1.24s\n",
            "343:\tlearn: 0.3565170\ttotal: 647ms\tremaining: 1.23s\n",
            "344:\tlearn: 0.3561494\ttotal: 649ms\tremaining: 1.23s\n",
            "345:\tlearn: 0.3558641\ttotal: 651ms\tremaining: 1.23s\n",
            "346:\tlearn: 0.3556644\ttotal: 652ms\tremaining: 1.23s\n",
            "347:\tlearn: 0.3554338\ttotal: 654ms\tremaining: 1.23s\n",
            "348:\tlearn: 0.3550445\ttotal: 656ms\tremaining: 1.22s\n",
            "349:\tlearn: 0.3549186\ttotal: 657ms\tremaining: 1.22s\n",
            "350:\tlearn: 0.3545927\ttotal: 659ms\tremaining: 1.22s\n",
            "351:\tlearn: 0.3543309\ttotal: 661ms\tremaining: 1.22s\n",
            "352:\tlearn: 0.3541376\ttotal: 662ms\tremaining: 1.21s\n",
            "353:\tlearn: 0.3538985\ttotal: 664ms\tremaining: 1.21s\n",
            "354:\tlearn: 0.3535069\ttotal: 666ms\tremaining: 1.21s\n",
            "355:\tlearn: 0.3533550\ttotal: 667ms\tremaining: 1.21s\n",
            "356:\tlearn: 0.3531731\ttotal: 669ms\tremaining: 1.21s\n",
            "357:\tlearn: 0.3528080\ttotal: 671ms\tremaining: 1.2s\n",
            "358:\tlearn: 0.3524392\ttotal: 672ms\tremaining: 1.2s\n",
            "359:\tlearn: 0.3522356\ttotal: 674ms\tremaining: 1.2s\n",
            "360:\tlearn: 0.3519929\ttotal: 676ms\tremaining: 1.2s\n",
            "361:\tlearn: 0.3516499\ttotal: 678ms\tremaining: 1.19s\n",
            "362:\tlearn: 0.3515666\ttotal: 679ms\tremaining: 1.19s\n",
            "363:\tlearn: 0.3510485\ttotal: 681ms\tremaining: 1.19s\n",
            "364:\tlearn: 0.3508040\ttotal: 683ms\tremaining: 1.19s\n",
            "365:\tlearn: 0.3506406\ttotal: 684ms\tremaining: 1.19s\n",
            "366:\tlearn: 0.3502603\ttotal: 686ms\tremaining: 1.18s\n",
            "367:\tlearn: 0.3499718\ttotal: 688ms\tremaining: 1.18s\n",
            "368:\tlearn: 0.3498401\ttotal: 690ms\tremaining: 1.18s\n",
            "369:\tlearn: 0.3495426\ttotal: 693ms\tremaining: 1.18s\n",
            "370:\tlearn: 0.3492350\ttotal: 696ms\tremaining: 1.18s\n",
            "371:\tlearn: 0.3490219\ttotal: 699ms\tremaining: 1.18s\n",
            "372:\tlearn: 0.3487884\ttotal: 701ms\tremaining: 1.18s\n",
            "373:\tlearn: 0.3485979\ttotal: 704ms\tremaining: 1.18s\n",
            "374:\tlearn: 0.3483728\ttotal: 706ms\tremaining: 1.18s\n",
            "375:\tlearn: 0.3481457\ttotal: 707ms\tremaining: 1.17s\n",
            "376:\tlearn: 0.3479825\ttotal: 709ms\tremaining: 1.17s\n",
            "377:\tlearn: 0.3478882\ttotal: 711ms\tremaining: 1.17s\n",
            "378:\tlearn: 0.3474450\ttotal: 712ms\tremaining: 1.17s\n",
            "379:\tlearn: 0.3471415\ttotal: 714ms\tremaining: 1.16s\n",
            "380:\tlearn: 0.3469088\ttotal: 716ms\tremaining: 1.16s\n",
            "381:\tlearn: 0.3467002\ttotal: 717ms\tremaining: 1.16s\n",
            "382:\tlearn: 0.3462993\ttotal: 719ms\tremaining: 1.16s\n",
            "383:\tlearn: 0.3460692\ttotal: 721ms\tremaining: 1.16s\n",
            "384:\tlearn: 0.3457410\ttotal: 722ms\tremaining: 1.15s\n",
            "385:\tlearn: 0.3454297\ttotal: 724ms\tremaining: 1.15s\n",
            "386:\tlearn: 0.3451197\ttotal: 726ms\tremaining: 1.15s\n",
            "387:\tlearn: 0.3448639\ttotal: 727ms\tremaining: 1.15s\n",
            "388:\tlearn: 0.3445579\ttotal: 729ms\tremaining: 1.15s\n",
            "389:\tlearn: 0.3444913\ttotal: 731ms\tremaining: 1.14s\n",
            "390:\tlearn: 0.3442737\ttotal: 733ms\tremaining: 1.14s\n",
            "391:\tlearn: 0.3437250\ttotal: 734ms\tremaining: 1.14s\n",
            "392:\tlearn: 0.3435635\ttotal: 736ms\tremaining: 1.14s\n",
            "393:\tlearn: 0.3434102\ttotal: 738ms\tremaining: 1.13s\n",
            "394:\tlearn: 0.3431824\ttotal: 739ms\tremaining: 1.13s\n",
            "395:\tlearn: 0.3430787\ttotal: 741ms\tremaining: 1.13s\n",
            "396:\tlearn: 0.3425642\ttotal: 743ms\tremaining: 1.13s\n",
            "397:\tlearn: 0.3422431\ttotal: 745ms\tremaining: 1.13s\n",
            "398:\tlearn: 0.3419377\ttotal: 746ms\tremaining: 1.12s\n",
            "399:\tlearn: 0.3416472\ttotal: 754ms\tremaining: 1.13s\n",
            "400:\tlearn: 0.3412207\ttotal: 756ms\tremaining: 1.13s\n",
            "401:\tlearn: 0.3410557\ttotal: 758ms\tremaining: 1.13s\n",
            "402:\tlearn: 0.3408742\ttotal: 760ms\tremaining: 1.13s\n",
            "403:\tlearn: 0.3405884\ttotal: 762ms\tremaining: 1.12s\n",
            "404:\tlearn: 0.3404660\ttotal: 763ms\tremaining: 1.12s\n",
            "405:\tlearn: 0.3401085\ttotal: 765ms\tremaining: 1.12s\n",
            "406:\tlearn: 0.3398346\ttotal: 767ms\tremaining: 1.12s\n",
            "407:\tlearn: 0.3396429\ttotal: 768ms\tremaining: 1.11s\n",
            "408:\tlearn: 0.3393709\ttotal: 770ms\tremaining: 1.11s\n",
            "409:\tlearn: 0.3390145\ttotal: 772ms\tremaining: 1.11s\n",
            "410:\tlearn: 0.3386615\ttotal: 774ms\tremaining: 1.11s\n",
            "411:\tlearn: 0.3383344\ttotal: 775ms\tremaining: 1.11s\n",
            "412:\tlearn: 0.3380822\ttotal: 777ms\tremaining: 1.1s\n",
            "413:\tlearn: 0.3379941\ttotal: 779ms\tremaining: 1.1s\n",
            "414:\tlearn: 0.3376642\ttotal: 780ms\tremaining: 1.1s\n",
            "415:\tlearn: 0.3373166\ttotal: 782ms\tremaining: 1.1s\n",
            "416:\tlearn: 0.3370171\ttotal: 784ms\tremaining: 1.09s\n",
            "417:\tlearn: 0.3367010\ttotal: 785ms\tremaining: 1.09s\n",
            "418:\tlearn: 0.3365160\ttotal: 787ms\tremaining: 1.09s\n",
            "419:\tlearn: 0.3363593\ttotal: 789ms\tremaining: 1.09s\n",
            "420:\tlearn: 0.3361502\ttotal: 790ms\tremaining: 1.09s\n",
            "421:\tlearn: 0.3358713\ttotal: 792ms\tremaining: 1.08s\n",
            "422:\tlearn: 0.3357147\ttotal: 794ms\tremaining: 1.08s\n",
            "423:\tlearn: 0.3354484\ttotal: 799ms\tremaining: 1.08s\n",
            "424:\tlearn: 0.3351016\ttotal: 801ms\tremaining: 1.08s\n",
            "425:\tlearn: 0.3347746\ttotal: 803ms\tremaining: 1.08s\n",
            "426:\tlearn: 0.3344894\ttotal: 809ms\tremaining: 1.08s\n",
            "427:\tlearn: 0.3342892\ttotal: 810ms\tremaining: 1.08s\n",
            "428:\tlearn: 0.3341075\ttotal: 812ms\tremaining: 1.08s\n",
            "429:\tlearn: 0.3338941\ttotal: 814ms\tremaining: 1.08s\n",
            "430:\tlearn: 0.3337560\ttotal: 816ms\tremaining: 1.08s\n",
            "431:\tlearn: 0.3335714\ttotal: 817ms\tremaining: 1.07s\n",
            "432:\tlearn: 0.3332410\ttotal: 819ms\tremaining: 1.07s\n",
            "433:\tlearn: 0.3329832\ttotal: 821ms\tremaining: 1.07s\n",
            "434:\tlearn: 0.3328368\ttotal: 822ms\tremaining: 1.07s\n",
            "435:\tlearn: 0.3326884\ttotal: 824ms\tremaining: 1.06s\n",
            "436:\tlearn: 0.3323322\ttotal: 826ms\tremaining: 1.06s\n",
            "437:\tlearn: 0.3321235\ttotal: 828ms\tremaining: 1.06s\n",
            "438:\tlearn: 0.3320326\ttotal: 829ms\tremaining: 1.06s\n",
            "439:\tlearn: 0.3317984\ttotal: 831ms\tremaining: 1.06s\n",
            "440:\tlearn: 0.3314946\ttotal: 833ms\tremaining: 1.05s\n",
            "441:\tlearn: 0.3311132\ttotal: 835ms\tremaining: 1.05s\n",
            "442:\tlearn: 0.3309111\ttotal: 837ms\tremaining: 1.05s\n",
            "443:\tlearn: 0.3305958\ttotal: 838ms\tremaining: 1.05s\n",
            "444:\tlearn: 0.3303515\ttotal: 840ms\tremaining: 1.05s\n",
            "445:\tlearn: 0.3300041\ttotal: 842ms\tremaining: 1.04s\n",
            "446:\tlearn: 0.3296642\ttotal: 843ms\tremaining: 1.04s\n",
            "447:\tlearn: 0.3293284\ttotal: 845ms\tremaining: 1.04s\n",
            "448:\tlearn: 0.3290932\ttotal: 847ms\tremaining: 1.04s\n",
            "449:\tlearn: 0.3288435\ttotal: 849ms\tremaining: 1.04s\n",
            "450:\tlearn: 0.3284576\ttotal: 851ms\tremaining: 1.03s\n",
            "451:\tlearn: 0.3282670\ttotal: 852ms\tremaining: 1.03s\n",
            "452:\tlearn: 0.3280547\ttotal: 854ms\tremaining: 1.03s\n",
            "453:\tlearn: 0.3278820\ttotal: 856ms\tremaining: 1.03s\n",
            "454:\tlearn: 0.3275311\ttotal: 858ms\tremaining: 1.03s\n",
            "455:\tlearn: 0.3272715\ttotal: 859ms\tremaining: 1.02s\n",
            "456:\tlearn: 0.3267720\ttotal: 861ms\tremaining: 1.02s\n",
            "457:\tlearn: 0.3265412\ttotal: 863ms\tremaining: 1.02s\n",
            "458:\tlearn: 0.3262828\ttotal: 864ms\tremaining: 1.02s\n",
            "459:\tlearn: 0.3258786\ttotal: 866ms\tremaining: 1.02s\n",
            "460:\tlearn: 0.3256638\ttotal: 868ms\tremaining: 1.01s\n",
            "461:\tlearn: 0.3254749\ttotal: 870ms\tremaining: 1.01s\n",
            "462:\tlearn: 0.3251904\ttotal: 871ms\tremaining: 1.01s\n",
            "463:\tlearn: 0.3250109\ttotal: 873ms\tremaining: 1.01s\n",
            "464:\tlearn: 0.3247222\ttotal: 875ms\tremaining: 1.01s\n",
            "465:\tlearn: 0.3245707\ttotal: 877ms\tremaining: 1s\n",
            "466:\tlearn: 0.3244117\ttotal: 878ms\tremaining: 1s\n",
            "467:\tlearn: 0.3241950\ttotal: 880ms\tremaining: 1s\n",
            "468:\tlearn: 0.3239654\ttotal: 882ms\tremaining: 998ms\n",
            "469:\tlearn: 0.3235346\ttotal: 883ms\tremaining: 996ms\n",
            "470:\tlearn: 0.3233161\ttotal: 885ms\tremaining: 994ms\n",
            "471:\tlearn: 0.3230554\ttotal: 887ms\tremaining: 992ms\n",
            "472:\tlearn: 0.3228718\ttotal: 889ms\tremaining: 990ms\n",
            "473:\tlearn: 0.3224890\ttotal: 891ms\tremaining: 988ms\n",
            "474:\tlearn: 0.3222207\ttotal: 892ms\tremaining: 986ms\n",
            "475:\tlearn: 0.3220642\ttotal: 894ms\tremaining: 985ms\n",
            "476:\tlearn: 0.3219271\ttotal: 896ms\tremaining: 983ms\n",
            "477:\tlearn: 0.3217153\ttotal: 898ms\tremaining: 981ms\n",
            "478:\tlearn: 0.3215713\ttotal: 900ms\tremaining: 979ms\n",
            "479:\tlearn: 0.3213318\ttotal: 903ms\tremaining: 978ms\n",
            "480:\tlearn: 0.3210987\ttotal: 905ms\tremaining: 977ms\n",
            "481:\tlearn: 0.3208918\ttotal: 908ms\tremaining: 976ms\n",
            "482:\tlearn: 0.3208750\ttotal: 911ms\tremaining: 975ms\n",
            "483:\tlearn: 0.3207145\ttotal: 914ms\tremaining: 974ms\n",
            "484:\tlearn: 0.3205309\ttotal: 918ms\tremaining: 974ms\n",
            "485:\tlearn: 0.3202499\ttotal: 922ms\tremaining: 975ms\n",
            "486:\tlearn: 0.3200876\ttotal: 926ms\tremaining: 976ms\n",
            "487:\tlearn: 0.3198791\ttotal: 930ms\tremaining: 976ms\n",
            "488:\tlearn: 0.3195969\ttotal: 931ms\tremaining: 973ms\n",
            "489:\tlearn: 0.3193498\ttotal: 933ms\tremaining: 971ms\n",
            "490:\tlearn: 0.3190616\ttotal: 935ms\tremaining: 970ms\n",
            "491:\tlearn: 0.3188600\ttotal: 940ms\tremaining: 971ms\n",
            "492:\tlearn: 0.3186140\ttotal: 942ms\tremaining: 968ms\n",
            "493:\tlearn: 0.3183408\ttotal: 944ms\tremaining: 967ms\n",
            "494:\tlearn: 0.3180037\ttotal: 945ms\tremaining: 964ms\n",
            "495:\tlearn: 0.3178353\ttotal: 947ms\tremaining: 962ms\n",
            "496:\tlearn: 0.3176282\ttotal: 949ms\tremaining: 960ms\n",
            "497:\tlearn: 0.3173838\ttotal: 951ms\tremaining: 958ms\n",
            "498:\tlearn: 0.3172186\ttotal: 952ms\tremaining: 956ms\n",
            "499:\tlearn: 0.3169855\ttotal: 954ms\tremaining: 954ms\n",
            "500:\tlearn: 0.3168469\ttotal: 956ms\tremaining: 952ms\n",
            "501:\tlearn: 0.3165428\ttotal: 958ms\tremaining: 950ms\n",
            "502:\tlearn: 0.3162142\ttotal: 959ms\tremaining: 948ms\n",
            "503:\tlearn: 0.3158101\ttotal: 961ms\tremaining: 946ms\n",
            "504:\tlearn: 0.3156463\ttotal: 963ms\tremaining: 944ms\n",
            "505:\tlearn: 0.3152751\ttotal: 965ms\tremaining: 942ms\n",
            "506:\tlearn: 0.3149717\ttotal: 967ms\tremaining: 940ms\n",
            "507:\tlearn: 0.3147588\ttotal: 969ms\tremaining: 938ms\n",
            "508:\tlearn: 0.3145870\ttotal: 970ms\tremaining: 936ms\n",
            "509:\tlearn: 0.3142295\ttotal: 972ms\tremaining: 934ms\n",
            "510:\tlearn: 0.3140854\ttotal: 974ms\tremaining: 932ms\n",
            "511:\tlearn: 0.3139802\ttotal: 976ms\tremaining: 930ms\n",
            "512:\tlearn: 0.3138461\ttotal: 978ms\tremaining: 928ms\n",
            "513:\tlearn: 0.3138215\ttotal: 979ms\tremaining: 925ms\n",
            "514:\tlearn: 0.3136609\ttotal: 980ms\tremaining: 923ms\n",
            "515:\tlearn: 0.3135203\ttotal: 982ms\tremaining: 921ms\n",
            "516:\tlearn: 0.3134165\ttotal: 984ms\tremaining: 919ms\n",
            "517:\tlearn: 0.3132744\ttotal: 985ms\tremaining: 917ms\n",
            "518:\tlearn: 0.3130569\ttotal: 987ms\tremaining: 915ms\n",
            "519:\tlearn: 0.3127912\ttotal: 989ms\tremaining: 913ms\n",
            "520:\tlearn: 0.3126869\ttotal: 991ms\tremaining: 911ms\n",
            "521:\tlearn: 0.3124543\ttotal: 993ms\tremaining: 909ms\n",
            "522:\tlearn: 0.3123124\ttotal: 994ms\tremaining: 907ms\n",
            "523:\tlearn: 0.3121577\ttotal: 996ms\tremaining: 905ms\n",
            "524:\tlearn: 0.3120102\ttotal: 998ms\tremaining: 903ms\n",
            "525:\tlearn: 0.3118149\ttotal: 1s\tremaining: 902ms\n",
            "526:\tlearn: 0.3116095\ttotal: 1s\tremaining: 901ms\n",
            "527:\tlearn: 0.3112838\ttotal: 1.01s\tremaining: 900ms\n",
            "528:\tlearn: 0.3110995\ttotal: 1.01s\tremaining: 898ms\n",
            "529:\tlearn: 0.3108287\ttotal: 1.01s\tremaining: 898ms\n",
            "530:\tlearn: 0.3105617\ttotal: 1.02s\tremaining: 898ms\n",
            "531:\tlearn: 0.3104329\ttotal: 1.02s\tremaining: 896ms\n",
            "532:\tlearn: 0.3099953\ttotal: 1.02s\tremaining: 894ms\n",
            "533:\tlearn: 0.3097095\ttotal: 1.02s\tremaining: 892ms\n",
            "534:\tlearn: 0.3094596\ttotal: 1.02s\tremaining: 890ms\n",
            "535:\tlearn: 0.3092339\ttotal: 1.03s\tremaining: 888ms\n",
            "536:\tlearn: 0.3089201\ttotal: 1.03s\tremaining: 886ms\n",
            "537:\tlearn: 0.3086431\ttotal: 1.03s\tremaining: 884ms\n",
            "538:\tlearn: 0.3085047\ttotal: 1.03s\tremaining: 882ms\n",
            "539:\tlearn: 0.3083656\ttotal: 1.03s\tremaining: 880ms\n",
            "540:\tlearn: 0.3080774\ttotal: 1.03s\tremaining: 879ms\n",
            "541:\tlearn: 0.3079443\ttotal: 1.04s\tremaining: 877ms\n",
            "542:\tlearn: 0.3076135\ttotal: 1.04s\tremaining: 875ms\n",
            "543:\tlearn: 0.3073553\ttotal: 1.04s\tremaining: 873ms\n",
            "544:\tlearn: 0.3070943\ttotal: 1.04s\tremaining: 871ms\n",
            "545:\tlearn: 0.3067616\ttotal: 1.04s\tremaining: 869ms\n",
            "546:\tlearn: 0.3064531\ttotal: 1.05s\tremaining: 867ms\n",
            "547:\tlearn: 0.3063305\ttotal: 1.05s\tremaining: 865ms\n",
            "548:\tlearn: 0.3061808\ttotal: 1.05s\tremaining: 863ms\n",
            "549:\tlearn: 0.3060188\ttotal: 1.05s\tremaining: 861ms\n",
            "550:\tlearn: 0.3058987\ttotal: 1.05s\tremaining: 859ms\n",
            "551:\tlearn: 0.3058343\ttotal: 1.05s\tremaining: 857ms\n",
            "552:\tlearn: 0.3056829\ttotal: 1.06s\tremaining: 855ms\n",
            "553:\tlearn: 0.3053912\ttotal: 1.06s\tremaining: 853ms\n",
            "554:\tlearn: 0.3052930\ttotal: 1.06s\tremaining: 851ms\n",
            "555:\tlearn: 0.3050197\ttotal: 1.06s\tremaining: 849ms\n",
            "556:\tlearn: 0.3047649\ttotal: 1.06s\tremaining: 847ms\n",
            "557:\tlearn: 0.3046248\ttotal: 1.07s\tremaining: 845ms\n",
            "558:\tlearn: 0.3044874\ttotal: 1.07s\tremaining: 843ms\n",
            "559:\tlearn: 0.3042202\ttotal: 1.07s\tremaining: 841ms\n",
            "560:\tlearn: 0.3040161\ttotal: 1.07s\tremaining: 839ms\n",
            "561:\tlearn: 0.3038011\ttotal: 1.07s\tremaining: 837ms\n",
            "562:\tlearn: 0.3033991\ttotal: 1.07s\tremaining: 835ms\n",
            "563:\tlearn: 0.3032123\ttotal: 1.08s\tremaining: 833ms\n",
            "564:\tlearn: 0.3029910\ttotal: 1.08s\tremaining: 831ms\n",
            "565:\tlearn: 0.3027793\ttotal: 1.08s\tremaining: 829ms\n",
            "566:\tlearn: 0.3025892\ttotal: 1.08s\tremaining: 827ms\n",
            "567:\tlearn: 0.3023057\ttotal: 1.08s\tremaining: 825ms\n",
            "568:\tlearn: 0.3020667\ttotal: 1.08s\tremaining: 823ms\n",
            "569:\tlearn: 0.3017813\ttotal: 1.09s\tremaining: 820ms\n",
            "570:\tlearn: 0.3015511\ttotal: 1.09s\tremaining: 818ms\n",
            "571:\tlearn: 0.3013667\ttotal: 1.09s\tremaining: 816ms\n",
            "572:\tlearn: 0.3010847\ttotal: 1.09s\tremaining: 814ms\n",
            "573:\tlearn: 0.3009130\ttotal: 1.09s\tremaining: 812ms\n",
            "574:\tlearn: 0.3007123\ttotal: 1.1s\tremaining: 810ms\n",
            "575:\tlearn: 0.3005315\ttotal: 1.1s\tremaining: 808ms\n",
            "576:\tlearn: 0.3002334\ttotal: 1.1s\tremaining: 806ms\n",
            "577:\tlearn: 0.2999271\ttotal: 1.1s\tremaining: 804ms\n",
            "578:\tlearn: 0.2997075\ttotal: 1.1s\tremaining: 803ms\n",
            "579:\tlearn: 0.2995559\ttotal: 1.1s\tremaining: 801ms\n",
            "580:\tlearn: 0.2993290\ttotal: 1.11s\tremaining: 798ms\n",
            "581:\tlearn: 0.2990656\ttotal: 1.11s\tremaining: 796ms\n",
            "582:\tlearn: 0.2989967\ttotal: 1.11s\tremaining: 794ms\n",
            "583:\tlearn: 0.2988098\ttotal: 1.11s\tremaining: 792ms\n",
            "584:\tlearn: 0.2985982\ttotal: 1.11s\tremaining: 790ms\n",
            "585:\tlearn: 0.2985041\ttotal: 1.11s\tremaining: 788ms\n",
            "586:\tlearn: 0.2981588\ttotal: 1.12s\tremaining: 789ms\n",
            "587:\tlearn: 0.2978949\ttotal: 1.12s\tremaining: 787ms\n",
            "588:\tlearn: 0.2974234\ttotal: 1.12s\tremaining: 784ms\n",
            "589:\tlearn: 0.2971712\ttotal: 1.13s\tremaining: 782ms\n",
            "590:\tlearn: 0.2968643\ttotal: 1.13s\tremaining: 780ms\n",
            "591:\tlearn: 0.2965938\ttotal: 1.13s\tremaining: 778ms\n",
            "592:\tlearn: 0.2962838\ttotal: 1.13s\tremaining: 776ms\n",
            "593:\tlearn: 0.2960975\ttotal: 1.13s\tremaining: 774ms\n",
            "594:\tlearn: 0.2958845\ttotal: 1.13s\tremaining: 772ms\n",
            "595:\tlearn: 0.2957353\ttotal: 1.14s\tremaining: 770ms\n",
            "596:\tlearn: 0.2953389\ttotal: 1.14s\tremaining: 768ms\n",
            "597:\tlearn: 0.2952819\ttotal: 1.14s\tremaining: 766ms\n",
            "598:\tlearn: 0.2951286\ttotal: 1.14s\tremaining: 763ms\n",
            "599:\tlearn: 0.2948671\ttotal: 1.14s\tremaining: 761ms\n",
            "600:\tlearn: 0.2945257\ttotal: 1.14s\tremaining: 759ms\n",
            "601:\tlearn: 0.2942234\ttotal: 1.15s\tremaining: 757ms\n",
            "602:\tlearn: 0.2939676\ttotal: 1.15s\tremaining: 755ms\n",
            "603:\tlearn: 0.2938874\ttotal: 1.15s\tremaining: 753ms\n",
            "604:\tlearn: 0.2936110\ttotal: 1.15s\tremaining: 751ms\n",
            "605:\tlearn: 0.2933145\ttotal: 1.15s\tremaining: 749ms\n",
            "606:\tlearn: 0.2930893\ttotal: 1.15s\tremaining: 747ms\n",
            "607:\tlearn: 0.2929735\ttotal: 1.16s\tremaining: 745ms\n",
            "608:\tlearn: 0.2928499\ttotal: 1.16s\tremaining: 743ms\n",
            "609:\tlearn: 0.2926590\ttotal: 1.16s\tremaining: 741ms\n",
            "610:\tlearn: 0.2925057\ttotal: 1.16s\tremaining: 739ms\n",
            "611:\tlearn: 0.2923338\ttotal: 1.16s\tremaining: 737ms\n",
            "612:\tlearn: 0.2921711\ttotal: 1.16s\tremaining: 735ms\n",
            "613:\tlearn: 0.2920402\ttotal: 1.17s\tremaining: 733ms\n",
            "614:\tlearn: 0.2918035\ttotal: 1.17s\tremaining: 731ms\n",
            "615:\tlearn: 0.2917207\ttotal: 1.17s\tremaining: 729ms\n",
            "616:\tlearn: 0.2915071\ttotal: 1.17s\tremaining: 727ms\n",
            "617:\tlearn: 0.2913330\ttotal: 1.17s\tremaining: 725ms\n",
            "618:\tlearn: 0.2911249\ttotal: 1.18s\tremaining: 723ms\n",
            "619:\tlearn: 0.2908758\ttotal: 1.18s\tremaining: 721ms\n",
            "620:\tlearn: 0.2907933\ttotal: 1.18s\tremaining: 719ms\n",
            "621:\tlearn: 0.2905025\ttotal: 1.18s\tremaining: 717ms\n",
            "622:\tlearn: 0.2901988\ttotal: 1.18s\tremaining: 715ms\n",
            "623:\tlearn: 0.2899192\ttotal: 1.18s\tremaining: 714ms\n",
            "624:\tlearn: 0.2897159\ttotal: 1.19s\tremaining: 712ms\n",
            "625:\tlearn: 0.2894979\ttotal: 1.19s\tremaining: 710ms\n",
            "626:\tlearn: 0.2893023\ttotal: 1.19s\tremaining: 708ms\n",
            "627:\tlearn: 0.2890455\ttotal: 1.19s\tremaining: 706ms\n",
            "628:\tlearn: 0.2889733\ttotal: 1.19s\tremaining: 704ms\n",
            "629:\tlearn: 0.2888172\ttotal: 1.19s\tremaining: 701ms\n",
            "630:\tlearn: 0.2887076\ttotal: 1.2s\tremaining: 699ms\n",
            "631:\tlearn: 0.2883894\ttotal: 1.2s\tremaining: 697ms\n",
            "632:\tlearn: 0.2881330\ttotal: 1.2s\tremaining: 696ms\n",
            "633:\tlearn: 0.2878962\ttotal: 1.2s\tremaining: 694ms\n",
            "634:\tlearn: 0.2877409\ttotal: 1.2s\tremaining: 692ms\n",
            "635:\tlearn: 0.2875536\ttotal: 1.21s\tremaining: 690ms\n",
            "636:\tlearn: 0.2873406\ttotal: 1.21s\tremaining: 688ms\n",
            "637:\tlearn: 0.2872096\ttotal: 1.21s\tremaining: 686ms\n",
            "638:\tlearn: 0.2870917\ttotal: 1.21s\tremaining: 684ms\n",
            "639:\tlearn: 0.2869168\ttotal: 1.21s\tremaining: 682ms\n",
            "640:\tlearn: 0.2867778\ttotal: 1.21s\tremaining: 680ms\n",
            "641:\tlearn: 0.2865519\ttotal: 1.22s\tremaining: 678ms\n",
            "642:\tlearn: 0.2862648\ttotal: 1.22s\tremaining: 676ms\n",
            "643:\tlearn: 0.2860863\ttotal: 1.22s\tremaining: 674ms\n",
            "644:\tlearn: 0.2857949\ttotal: 1.22s\tremaining: 672ms\n",
            "645:\tlearn: 0.2855053\ttotal: 1.22s\tremaining: 670ms\n",
            "646:\tlearn: 0.2851983\ttotal: 1.22s\tremaining: 668ms\n",
            "647:\tlearn: 0.2847704\ttotal: 1.23s\tremaining: 666ms\n",
            "648:\tlearn: 0.2846852\ttotal: 1.23s\tremaining: 664ms\n",
            "649:\tlearn: 0.2844833\ttotal: 1.23s\tremaining: 662ms\n",
            "650:\tlearn: 0.2842070\ttotal: 1.23s\tremaining: 660ms\n",
            "651:\tlearn: 0.2840532\ttotal: 1.23s\tremaining: 658ms\n",
            "652:\tlearn: 0.2838553\ttotal: 1.23s\tremaining: 656ms\n",
            "653:\tlearn: 0.2837050\ttotal: 1.24s\tremaining: 654ms\n",
            "654:\tlearn: 0.2835221\ttotal: 1.24s\tremaining: 652ms\n",
            "655:\tlearn: 0.2834265\ttotal: 1.24s\tremaining: 650ms\n",
            "656:\tlearn: 0.2832830\ttotal: 1.24s\tremaining: 648ms\n",
            "657:\tlearn: 0.2831891\ttotal: 1.24s\tremaining: 646ms\n",
            "658:\tlearn: 0.2830451\ttotal: 1.24s\tremaining: 644ms\n",
            "659:\tlearn: 0.2829343\ttotal: 1.25s\tremaining: 642ms\n",
            "660:\tlearn: 0.2828125\ttotal: 1.25s\tremaining: 640ms\n",
            "661:\tlearn: 0.2826027\ttotal: 1.25s\tremaining: 638ms\n",
            "662:\tlearn: 0.2823683\ttotal: 1.25s\tremaining: 636ms\n",
            "663:\tlearn: 0.2821077\ttotal: 1.25s\tremaining: 634ms\n",
            "664:\tlearn: 0.2818931\ttotal: 1.25s\tremaining: 632ms\n",
            "665:\tlearn: 0.2816573\ttotal: 1.26s\tremaining: 630ms\n",
            "666:\tlearn: 0.2813119\ttotal: 1.26s\tremaining: 628ms\n",
            "667:\tlearn: 0.2810620\ttotal: 1.26s\tremaining: 626ms\n",
            "668:\tlearn: 0.2807411\ttotal: 1.26s\tremaining: 624ms\n",
            "669:\tlearn: 0.2803830\ttotal: 1.26s\tremaining: 622ms\n",
            "670:\tlearn: 0.2800729\ttotal: 1.26s\tremaining: 620ms\n",
            "671:\tlearn: 0.2798453\ttotal: 1.27s\tremaining: 619ms\n",
            "672:\tlearn: 0.2796384\ttotal: 1.27s\tremaining: 617ms\n",
            "673:\tlearn: 0.2793979\ttotal: 1.27s\tremaining: 615ms\n",
            "674:\tlearn: 0.2793139\ttotal: 1.27s\tremaining: 613ms\n",
            "675:\tlearn: 0.2791625\ttotal: 1.27s\tremaining: 611ms\n",
            "676:\tlearn: 0.2789532\ttotal: 1.27s\tremaining: 609ms\n",
            "677:\tlearn: 0.2788578\ttotal: 1.28s\tremaining: 607ms\n",
            "678:\tlearn: 0.2787117\ttotal: 1.28s\tremaining: 605ms\n",
            "679:\tlearn: 0.2786541\ttotal: 1.28s\tremaining: 603ms\n",
            "680:\tlearn: 0.2784129\ttotal: 1.28s\tremaining: 601ms\n",
            "681:\tlearn: 0.2782839\ttotal: 1.28s\tremaining: 599ms\n",
            "682:\tlearn: 0.2781029\ttotal: 1.28s\tremaining: 597ms\n",
            "683:\tlearn: 0.2779504\ttotal: 1.29s\tremaining: 595ms\n",
            "684:\tlearn: 0.2776965\ttotal: 1.29s\tremaining: 593ms\n",
            "685:\tlearn: 0.2774501\ttotal: 1.29s\tremaining: 591ms\n",
            "686:\tlearn: 0.2772645\ttotal: 1.29s\tremaining: 589ms\n",
            "687:\tlearn: 0.2770523\ttotal: 1.29s\tremaining: 587ms\n",
            "688:\tlearn: 0.2768456\ttotal: 1.3s\tremaining: 585ms\n",
            "689:\tlearn: 0.2766573\ttotal: 1.3s\tremaining: 583ms\n",
            "690:\tlearn: 0.2764761\ttotal: 1.3s\tremaining: 581ms\n",
            "691:\tlearn: 0.2762052\ttotal: 1.3s\tremaining: 579ms\n",
            "692:\tlearn: 0.2760176\ttotal: 1.3s\tremaining: 577ms\n",
            "693:\tlearn: 0.2758698\ttotal: 1.3s\tremaining: 576ms\n",
            "694:\tlearn: 0.2756909\ttotal: 1.31s\tremaining: 575ms\n",
            "695:\tlearn: 0.2755588\ttotal: 1.31s\tremaining: 573ms\n",
            "696:\tlearn: 0.2753049\ttotal: 1.31s\tremaining: 571ms\n",
            "697:\tlearn: 0.2750274\ttotal: 1.32s\tremaining: 569ms\n",
            "698:\tlearn: 0.2748326\ttotal: 1.32s\tremaining: 568ms\n",
            "699:\tlearn: 0.2746643\ttotal: 1.32s\tremaining: 566ms\n",
            "700:\tlearn: 0.2745249\ttotal: 1.32s\tremaining: 564ms\n",
            "701:\tlearn: 0.2742531\ttotal: 1.32s\tremaining: 562ms\n",
            "702:\tlearn: 0.2741192\ttotal: 1.32s\tremaining: 560ms\n",
            "703:\tlearn: 0.2738550\ttotal: 1.33s\tremaining: 558ms\n",
            "704:\tlearn: 0.2735580\ttotal: 1.33s\tremaining: 556ms\n",
            "705:\tlearn: 0.2731387\ttotal: 1.33s\tremaining: 554ms\n",
            "706:\tlearn: 0.2729443\ttotal: 1.33s\tremaining: 552ms\n",
            "707:\tlearn: 0.2727894\ttotal: 1.33s\tremaining: 550ms\n",
            "708:\tlearn: 0.2725245\ttotal: 1.33s\tremaining: 548ms\n",
            "709:\tlearn: 0.2723979\ttotal: 1.34s\tremaining: 546ms\n",
            "710:\tlearn: 0.2721767\ttotal: 1.34s\tremaining: 544ms\n",
            "711:\tlearn: 0.2719523\ttotal: 1.34s\tremaining: 542ms\n",
            "712:\tlearn: 0.2717898\ttotal: 1.34s\tremaining: 541ms\n",
            "713:\tlearn: 0.2713988\ttotal: 1.34s\tremaining: 539ms\n",
            "714:\tlearn: 0.2712808\ttotal: 1.35s\tremaining: 537ms\n",
            "715:\tlearn: 0.2710457\ttotal: 1.35s\tremaining: 535ms\n",
            "716:\tlearn: 0.2707798\ttotal: 1.35s\tremaining: 533ms\n",
            "717:\tlearn: 0.2705802\ttotal: 1.35s\tremaining: 531ms\n",
            "718:\tlearn: 0.2703434\ttotal: 1.35s\tremaining: 529ms\n",
            "719:\tlearn: 0.2701512\ttotal: 1.35s\tremaining: 527ms\n",
            "720:\tlearn: 0.2700092\ttotal: 1.36s\tremaining: 525ms\n",
            "721:\tlearn: 0.2698542\ttotal: 1.36s\tremaining: 523ms\n",
            "722:\tlearn: 0.2695694\ttotal: 1.36s\tremaining: 521ms\n",
            "723:\tlearn: 0.2693743\ttotal: 1.36s\tremaining: 519ms\n",
            "724:\tlearn: 0.2692482\ttotal: 1.36s\tremaining: 517ms\n",
            "725:\tlearn: 0.2691657\ttotal: 1.36s\tremaining: 515ms\n",
            "726:\tlearn: 0.2689477\ttotal: 1.37s\tremaining: 513ms\n",
            "727:\tlearn: 0.2688117\ttotal: 1.37s\tremaining: 511ms\n",
            "728:\tlearn: 0.2684523\ttotal: 1.37s\tremaining: 509ms\n",
            "729:\tlearn: 0.2682278\ttotal: 1.37s\tremaining: 508ms\n",
            "730:\tlearn: 0.2680039\ttotal: 1.37s\tremaining: 505ms\n",
            "731:\tlearn: 0.2679001\ttotal: 1.38s\tremaining: 504ms\n",
            "732:\tlearn: 0.2676895\ttotal: 1.38s\tremaining: 502ms\n",
            "733:\tlearn: 0.2675251\ttotal: 1.38s\tremaining: 500ms\n",
            "734:\tlearn: 0.2673222\ttotal: 1.38s\tremaining: 498ms\n",
            "735:\tlearn: 0.2671598\ttotal: 1.38s\tremaining: 496ms\n",
            "736:\tlearn: 0.2668621\ttotal: 1.38s\tremaining: 494ms\n",
            "737:\tlearn: 0.2666724\ttotal: 1.39s\tremaining: 492ms\n",
            "738:\tlearn: 0.2663343\ttotal: 1.39s\tremaining: 490ms\n",
            "739:\tlearn: 0.2661171\ttotal: 1.39s\tremaining: 488ms\n",
            "740:\tlearn: 0.2658198\ttotal: 1.39s\tremaining: 486ms\n",
            "741:\tlearn: 0.2656295\ttotal: 1.39s\tremaining: 484ms\n",
            "742:\tlearn: 0.2654670\ttotal: 1.39s\tremaining: 482ms\n",
            "743:\tlearn: 0.2652245\ttotal: 1.4s\tremaining: 480ms\n",
            "744:\tlearn: 0.2649063\ttotal: 1.4s\tremaining: 479ms\n",
            "745:\tlearn: 0.2646574\ttotal: 1.4s\tremaining: 477ms\n",
            "746:\tlearn: 0.2643815\ttotal: 1.4s\tremaining: 476ms\n",
            "747:\tlearn: 0.2642375\ttotal: 1.41s\tremaining: 474ms\n",
            "748:\tlearn: 0.2641040\ttotal: 1.41s\tremaining: 473ms\n",
            "749:\tlearn: 0.2640003\ttotal: 1.41s\tremaining: 471ms\n",
            "750:\tlearn: 0.2638337\ttotal: 1.41s\tremaining: 469ms\n",
            "751:\tlearn: 0.2636226\ttotal: 1.42s\tremaining: 467ms\n",
            "752:\tlearn: 0.2633833\ttotal: 1.42s\tremaining: 465ms\n",
            "753:\tlearn: 0.2631833\ttotal: 1.42s\tremaining: 463ms\n",
            "754:\tlearn: 0.2629423\ttotal: 1.42s\tremaining: 461ms\n",
            "755:\tlearn: 0.2627703\ttotal: 1.42s\tremaining: 459ms\n",
            "756:\tlearn: 0.2623858\ttotal: 1.42s\tremaining: 457ms\n",
            "757:\tlearn: 0.2622830\ttotal: 1.43s\tremaining: 455ms\n",
            "758:\tlearn: 0.2620753\ttotal: 1.43s\tremaining: 454ms\n",
            "759:\tlearn: 0.2619878\ttotal: 1.43s\tremaining: 452ms\n",
            "760:\tlearn: 0.2618000\ttotal: 1.43s\tremaining: 450ms\n",
            "761:\tlearn: 0.2616016\ttotal: 1.43s\tremaining: 448ms\n",
            "762:\tlearn: 0.2613096\ttotal: 1.44s\tremaining: 446ms\n",
            "763:\tlearn: 0.2611409\ttotal: 1.44s\tremaining: 444ms\n",
            "764:\tlearn: 0.2607729\ttotal: 1.44s\tremaining: 442ms\n",
            "765:\tlearn: 0.2604686\ttotal: 1.44s\tremaining: 440ms\n",
            "766:\tlearn: 0.2603496\ttotal: 1.44s\tremaining: 438ms\n",
            "767:\tlearn: 0.2600105\ttotal: 1.44s\tremaining: 436ms\n",
            "768:\tlearn: 0.2598411\ttotal: 1.45s\tremaining: 434ms\n",
            "769:\tlearn: 0.2596618\ttotal: 1.45s\tremaining: 432ms\n",
            "770:\tlearn: 0.2593790\ttotal: 1.45s\tremaining: 430ms\n",
            "771:\tlearn: 0.2592099\ttotal: 1.45s\tremaining: 428ms\n",
            "772:\tlearn: 0.2588397\ttotal: 1.45s\tremaining: 426ms\n",
            "773:\tlearn: 0.2586610\ttotal: 1.45s\tremaining: 425ms\n",
            "774:\tlearn: 0.2584607\ttotal: 1.46s\tremaining: 423ms\n",
            "775:\tlearn: 0.2582839\ttotal: 1.46s\tremaining: 421ms\n",
            "776:\tlearn: 0.2580622\ttotal: 1.46s\tremaining: 419ms\n",
            "777:\tlearn: 0.2578560\ttotal: 1.46s\tremaining: 417ms\n",
            "778:\tlearn: 0.2574907\ttotal: 1.46s\tremaining: 415ms\n",
            "779:\tlearn: 0.2573573\ttotal: 1.46s\tremaining: 413ms\n",
            "780:\tlearn: 0.2571404\ttotal: 1.47s\tremaining: 411ms\n",
            "781:\tlearn: 0.2569551\ttotal: 1.47s\tremaining: 409ms\n",
            "782:\tlearn: 0.2567202\ttotal: 1.47s\tremaining: 407ms\n",
            "783:\tlearn: 0.2563850\ttotal: 1.47s\tremaining: 405ms\n",
            "784:\tlearn: 0.2561064\ttotal: 1.47s\tremaining: 403ms\n",
            "785:\tlearn: 0.2557565\ttotal: 1.47s\tremaining: 401ms\n",
            "786:\tlearn: 0.2556208\ttotal: 1.48s\tremaining: 400ms\n",
            "787:\tlearn: 0.2554105\ttotal: 1.48s\tremaining: 398ms\n",
            "788:\tlearn: 0.2551620\ttotal: 1.48s\tremaining: 396ms\n",
            "789:\tlearn: 0.2549154\ttotal: 1.48s\tremaining: 394ms\n",
            "790:\tlearn: 0.2547620\ttotal: 1.48s\tremaining: 392ms\n",
            "791:\tlearn: 0.2546764\ttotal: 1.48s\tremaining: 390ms\n",
            "792:\tlearn: 0.2544597\ttotal: 1.49s\tremaining: 388ms\n",
            "793:\tlearn: 0.2543652\ttotal: 1.49s\tremaining: 386ms\n",
            "794:\tlearn: 0.2542155\ttotal: 1.49s\tremaining: 384ms\n",
            "795:\tlearn: 0.2540332\ttotal: 1.49s\tremaining: 382ms\n",
            "796:\tlearn: 0.2538901\ttotal: 1.5s\tremaining: 381ms\n",
            "797:\tlearn: 0.2537517\ttotal: 1.5s\tremaining: 380ms\n",
            "798:\tlearn: 0.2535030\ttotal: 1.5s\tremaining: 378ms\n",
            "799:\tlearn: 0.2531216\ttotal: 1.5s\tremaining: 376ms\n",
            "800:\tlearn: 0.2528347\ttotal: 1.5s\tremaining: 374ms\n",
            "801:\tlearn: 0.2526466\ttotal: 1.51s\tremaining: 372ms\n",
            "802:\tlearn: 0.2524899\ttotal: 1.51s\tremaining: 370ms\n",
            "803:\tlearn: 0.2524611\ttotal: 1.51s\tremaining: 368ms\n",
            "804:\tlearn: 0.2523046\ttotal: 1.51s\tremaining: 366ms\n",
            "805:\tlearn: 0.2519663\ttotal: 1.51s\tremaining: 364ms\n",
            "806:\tlearn: 0.2517264\ttotal: 1.51s\tremaining: 362ms\n",
            "807:\tlearn: 0.2515837\ttotal: 1.52s\tremaining: 360ms\n",
            "808:\tlearn: 0.2512323\ttotal: 1.52s\tremaining: 358ms\n",
            "809:\tlearn: 0.2510727\ttotal: 1.52s\tremaining: 357ms\n",
            "810:\tlearn: 0.2508966\ttotal: 1.52s\tremaining: 355ms\n",
            "811:\tlearn: 0.2505822\ttotal: 1.52s\tremaining: 353ms\n",
            "812:\tlearn: 0.2503964\ttotal: 1.52s\tremaining: 351ms\n",
            "813:\tlearn: 0.2500604\ttotal: 1.53s\tremaining: 349ms\n",
            "814:\tlearn: 0.2498175\ttotal: 1.53s\tremaining: 347ms\n",
            "815:\tlearn: 0.2495328\ttotal: 1.53s\tremaining: 345ms\n",
            "816:\tlearn: 0.2492849\ttotal: 1.53s\tremaining: 343ms\n",
            "817:\tlearn: 0.2491098\ttotal: 1.53s\tremaining: 341ms\n",
            "818:\tlearn: 0.2489653\ttotal: 1.53s\tremaining: 339ms\n",
            "819:\tlearn: 0.2487696\ttotal: 1.54s\tremaining: 338ms\n",
            "820:\tlearn: 0.2486717\ttotal: 1.54s\tremaining: 336ms\n",
            "821:\tlearn: 0.2485216\ttotal: 1.54s\tremaining: 334ms\n",
            "822:\tlearn: 0.2483334\ttotal: 1.54s\tremaining: 332ms\n",
            "823:\tlearn: 0.2482545\ttotal: 1.54s\tremaining: 330ms\n",
            "824:\tlearn: 0.2480968\ttotal: 1.55s\tremaining: 328ms\n",
            "825:\tlearn: 0.2479642\ttotal: 1.55s\tremaining: 326ms\n",
            "826:\tlearn: 0.2477622\ttotal: 1.55s\tremaining: 324ms\n",
            "827:\tlearn: 0.2475576\ttotal: 1.55s\tremaining: 322ms\n",
            "828:\tlearn: 0.2473469\ttotal: 1.55s\tremaining: 321ms\n",
            "829:\tlearn: 0.2470384\ttotal: 1.55s\tremaining: 319ms\n",
            "830:\tlearn: 0.2469508\ttotal: 1.56s\tremaining: 317ms\n",
            "831:\tlearn: 0.2468466\ttotal: 1.56s\tremaining: 315ms\n",
            "832:\tlearn: 0.2466557\ttotal: 1.56s\tremaining: 313ms\n",
            "833:\tlearn: 0.2464797\ttotal: 1.56s\tremaining: 311ms\n",
            "834:\tlearn: 0.2463392\ttotal: 1.56s\tremaining: 309ms\n",
            "835:\tlearn: 0.2459816\ttotal: 1.57s\tremaining: 307ms\n",
            "836:\tlearn: 0.2457829\ttotal: 1.57s\tremaining: 305ms\n",
            "837:\tlearn: 0.2456036\ttotal: 1.57s\tremaining: 304ms\n",
            "838:\tlearn: 0.2454291\ttotal: 1.57s\tremaining: 302ms\n",
            "839:\tlearn: 0.2452582\ttotal: 1.57s\tremaining: 300ms\n",
            "840:\tlearn: 0.2450684\ttotal: 1.57s\tremaining: 298ms\n",
            "841:\tlearn: 0.2450134\ttotal: 1.58s\tremaining: 296ms\n",
            "842:\tlearn: 0.2448318\ttotal: 1.58s\tremaining: 294ms\n",
            "843:\tlearn: 0.2446895\ttotal: 1.58s\tremaining: 292ms\n",
            "844:\tlearn: 0.2445723\ttotal: 1.58s\tremaining: 290ms\n",
            "845:\tlearn: 0.2444099\ttotal: 1.58s\tremaining: 288ms\n",
            "846:\tlearn: 0.2442444\ttotal: 1.59s\tremaining: 286ms\n",
            "847:\tlearn: 0.2440974\ttotal: 1.59s\tremaining: 285ms\n",
            "848:\tlearn: 0.2438898\ttotal: 1.59s\tremaining: 283ms\n",
            "849:\tlearn: 0.2435499\ttotal: 1.59s\tremaining: 281ms\n",
            "850:\tlearn: 0.2434555\ttotal: 1.59s\tremaining: 279ms\n",
            "851:\tlearn: 0.2432307\ttotal: 1.59s\tremaining: 277ms\n",
            "852:\tlearn: 0.2429749\ttotal: 1.6s\tremaining: 275ms\n",
            "853:\tlearn: 0.2426561\ttotal: 1.6s\tremaining: 273ms\n",
            "854:\tlearn: 0.2425043\ttotal: 1.6s\tremaining: 271ms\n",
            "855:\tlearn: 0.2421297\ttotal: 1.6s\tremaining: 269ms\n",
            "856:\tlearn: 0.2419306\ttotal: 1.6s\tremaining: 268ms\n",
            "857:\tlearn: 0.2417767\ttotal: 1.6s\tremaining: 266ms\n",
            "858:\tlearn: 0.2414005\ttotal: 1.61s\tremaining: 264ms\n",
            "859:\tlearn: 0.2412772\ttotal: 1.61s\tremaining: 262ms\n",
            "860:\tlearn: 0.2411049\ttotal: 1.61s\tremaining: 260ms\n",
            "861:\tlearn: 0.2408960\ttotal: 1.61s\tremaining: 258ms\n",
            "862:\tlearn: 0.2406061\ttotal: 1.61s\tremaining: 256ms\n",
            "863:\tlearn: 0.2404661\ttotal: 1.62s\tremaining: 254ms\n",
            "864:\tlearn: 0.2403627\ttotal: 1.62s\tremaining: 252ms\n",
            "865:\tlearn: 0.2401130\ttotal: 1.62s\tremaining: 251ms\n",
            "866:\tlearn: 0.2399014\ttotal: 1.62s\tremaining: 249ms\n",
            "867:\tlearn: 0.2397688\ttotal: 1.62s\tremaining: 247ms\n",
            "868:\tlearn: 0.2396779\ttotal: 1.62s\tremaining: 245ms\n",
            "869:\tlearn: 0.2393901\ttotal: 1.63s\tremaining: 243ms\n",
            "870:\tlearn: 0.2390976\ttotal: 1.63s\tremaining: 241ms\n",
            "871:\tlearn: 0.2389588\ttotal: 1.63s\tremaining: 239ms\n",
            "872:\tlearn: 0.2388266\ttotal: 1.63s\tremaining: 237ms\n",
            "873:\tlearn: 0.2386681\ttotal: 1.63s\tremaining: 235ms\n",
            "874:\tlearn: 0.2385183\ttotal: 1.64s\tremaining: 234ms\n",
            "875:\tlearn: 0.2382516\ttotal: 1.64s\tremaining: 232ms\n",
            "876:\tlearn: 0.2380592\ttotal: 1.64s\tremaining: 230ms\n",
            "877:\tlearn: 0.2379495\ttotal: 1.64s\tremaining: 228ms\n",
            "878:\tlearn: 0.2377498\ttotal: 1.64s\tremaining: 226ms\n",
            "879:\tlearn: 0.2375167\ttotal: 1.64s\tremaining: 224ms\n",
            "880:\tlearn: 0.2372837\ttotal: 1.65s\tremaining: 222ms\n",
            "881:\tlearn: 0.2370659\ttotal: 1.65s\tremaining: 220ms\n",
            "882:\tlearn: 0.2369054\ttotal: 1.65s\tremaining: 218ms\n",
            "883:\tlearn: 0.2367412\ttotal: 1.65s\tremaining: 217ms\n",
            "884:\tlearn: 0.2365356\ttotal: 1.65s\tremaining: 215ms\n",
            "885:\tlearn: 0.2363390\ttotal: 1.65s\tremaining: 213ms\n",
            "886:\tlearn: 0.2361771\ttotal: 1.66s\tremaining: 211ms\n",
            "887:\tlearn: 0.2359721\ttotal: 1.66s\tremaining: 209ms\n",
            "888:\tlearn: 0.2357686\ttotal: 1.66s\tremaining: 207ms\n",
            "889:\tlearn: 0.2355268\ttotal: 1.66s\tremaining: 205ms\n",
            "890:\tlearn: 0.2352954\ttotal: 1.66s\tremaining: 203ms\n",
            "891:\tlearn: 0.2350779\ttotal: 1.66s\tremaining: 202ms\n",
            "892:\tlearn: 0.2349172\ttotal: 1.67s\tremaining: 200ms\n",
            "893:\tlearn: 0.2347951\ttotal: 1.67s\tremaining: 198ms\n",
            "894:\tlearn: 0.2346311\ttotal: 1.67s\tremaining: 196ms\n",
            "895:\tlearn: 0.2343456\ttotal: 1.67s\tremaining: 194ms\n",
            "896:\tlearn: 0.2341785\ttotal: 1.67s\tremaining: 192ms\n",
            "897:\tlearn: 0.2340239\ttotal: 1.68s\tremaining: 190ms\n",
            "898:\tlearn: 0.2338405\ttotal: 1.68s\tremaining: 188ms\n",
            "899:\tlearn: 0.2337203\ttotal: 1.68s\tremaining: 187ms\n",
            "900:\tlearn: 0.2336019\ttotal: 1.68s\tremaining: 185ms\n",
            "901:\tlearn: 0.2334021\ttotal: 1.68s\tremaining: 183ms\n",
            "902:\tlearn: 0.2332627\ttotal: 1.69s\tremaining: 181ms\n",
            "903:\tlearn: 0.2330083\ttotal: 1.69s\tremaining: 179ms\n",
            "904:\tlearn: 0.2329191\ttotal: 1.69s\tremaining: 177ms\n",
            "905:\tlearn: 0.2327932\ttotal: 1.69s\tremaining: 175ms\n",
            "906:\tlearn: 0.2326107\ttotal: 1.69s\tremaining: 174ms\n",
            "907:\tlearn: 0.2323730\ttotal: 1.7s\tremaining: 172ms\n",
            "908:\tlearn: 0.2322374\ttotal: 1.7s\tremaining: 170ms\n",
            "909:\tlearn: 0.2321333\ttotal: 1.7s\tremaining: 168ms\n",
            "910:\tlearn: 0.2319306\ttotal: 1.7s\tremaining: 166ms\n",
            "911:\tlearn: 0.2316776\ttotal: 1.7s\tremaining: 164ms\n",
            "912:\tlearn: 0.2314656\ttotal: 1.71s\tremaining: 163ms\n",
            "913:\tlearn: 0.2312763\ttotal: 1.71s\tremaining: 161ms\n",
            "914:\tlearn: 0.2311451\ttotal: 1.71s\tremaining: 159ms\n",
            "915:\tlearn: 0.2309540\ttotal: 1.71s\tremaining: 157ms\n",
            "916:\tlearn: 0.2307966\ttotal: 1.72s\tremaining: 155ms\n",
            "917:\tlearn: 0.2307398\ttotal: 1.72s\tremaining: 153ms\n",
            "918:\tlearn: 0.2306128\ttotal: 1.72s\tremaining: 152ms\n",
            "919:\tlearn: 0.2304112\ttotal: 1.72s\tremaining: 150ms\n",
            "920:\tlearn: 0.2302062\ttotal: 1.72s\tremaining: 148ms\n",
            "921:\tlearn: 0.2300531\ttotal: 1.72s\tremaining: 146ms\n",
            "922:\tlearn: 0.2298420\ttotal: 1.73s\tremaining: 144ms\n",
            "923:\tlearn: 0.2297404\ttotal: 1.73s\tremaining: 142ms\n",
            "924:\tlearn: 0.2295631\ttotal: 1.73s\tremaining: 140ms\n",
            "925:\tlearn: 0.2293218\ttotal: 1.73s\tremaining: 138ms\n",
            "926:\tlearn: 0.2291464\ttotal: 1.73s\tremaining: 136ms\n",
            "927:\tlearn: 0.2288847\ttotal: 1.74s\tremaining: 135ms\n",
            "928:\tlearn: 0.2286821\ttotal: 1.74s\tremaining: 133ms\n",
            "929:\tlearn: 0.2284880\ttotal: 1.74s\tremaining: 131ms\n",
            "930:\tlearn: 0.2283262\ttotal: 1.74s\tremaining: 129ms\n",
            "931:\tlearn: 0.2282235\ttotal: 1.74s\tremaining: 127ms\n",
            "932:\tlearn: 0.2280524\ttotal: 1.74s\tremaining: 125ms\n",
            "933:\tlearn: 0.2277964\ttotal: 1.75s\tremaining: 123ms\n",
            "934:\tlearn: 0.2276129\ttotal: 1.75s\tremaining: 122ms\n",
            "935:\tlearn: 0.2274533\ttotal: 1.75s\tremaining: 120ms\n",
            "936:\tlearn: 0.2273005\ttotal: 1.75s\tremaining: 118ms\n",
            "937:\tlearn: 0.2271597\ttotal: 1.75s\tremaining: 116ms\n",
            "938:\tlearn: 0.2270504\ttotal: 1.75s\tremaining: 114ms\n",
            "939:\tlearn: 0.2269409\ttotal: 1.76s\tremaining: 112ms\n",
            "940:\tlearn: 0.2268763\ttotal: 1.76s\tremaining: 110ms\n",
            "941:\tlearn: 0.2267144\ttotal: 1.76s\tremaining: 109ms\n",
            "942:\tlearn: 0.2265794\ttotal: 1.77s\tremaining: 107ms\n",
            "943:\tlearn: 0.2264831\ttotal: 1.77s\tremaining: 105ms\n",
            "944:\tlearn: 0.2262859\ttotal: 1.77s\tremaining: 103ms\n",
            "945:\tlearn: 0.2260248\ttotal: 1.77s\tremaining: 101ms\n",
            "946:\tlearn: 0.2259132\ttotal: 1.78s\tremaining: 99.5ms\n",
            "947:\tlearn: 0.2257823\ttotal: 1.78s\tremaining: 97.7ms\n",
            "948:\tlearn: 0.2254879\ttotal: 1.78s\tremaining: 95.9ms\n",
            "949:\tlearn: 0.2253233\ttotal: 1.79s\tremaining: 94.3ms\n",
            "950:\tlearn: 0.2251137\ttotal: 1.79s\tremaining: 92.4ms\n",
            "951:\tlearn: 0.2248556\ttotal: 1.79s\tremaining: 90.5ms\n",
            "952:\tlearn: 0.2247149\ttotal: 1.79s\tremaining: 88.6ms\n",
            "953:\tlearn: 0.2245249\ttotal: 1.8s\tremaining: 86.6ms\n",
            "954:\tlearn: 0.2243339\ttotal: 1.8s\tremaining: 84.8ms\n",
            "955:\tlearn: 0.2241714\ttotal: 1.8s\tremaining: 82.9ms\n",
            "956:\tlearn: 0.2240937\ttotal: 1.8s\tremaining: 81ms\n",
            "957:\tlearn: 0.2237909\ttotal: 1.8s\tremaining: 79.1ms\n",
            "958:\tlearn: 0.2236351\ttotal: 1.8s\tremaining: 77.2ms\n",
            "959:\tlearn: 0.2234401\ttotal: 1.81s\tremaining: 75.3ms\n",
            "960:\tlearn: 0.2233000\ttotal: 1.81s\tremaining: 73.4ms\n",
            "961:\tlearn: 0.2230083\ttotal: 1.81s\tremaining: 71.5ms\n",
            "962:\tlearn: 0.2228442\ttotal: 1.81s\tremaining: 69.6ms\n",
            "963:\tlearn: 0.2226278\ttotal: 1.81s\tremaining: 67.8ms\n",
            "964:\tlearn: 0.2224547\ttotal: 1.82s\tremaining: 65.9ms\n",
            "965:\tlearn: 0.2224058\ttotal: 1.82s\tremaining: 64ms\n",
            "966:\tlearn: 0.2222196\ttotal: 1.82s\tremaining: 62.1ms\n",
            "967:\tlearn: 0.2220053\ttotal: 1.82s\tremaining: 60.2ms\n",
            "968:\tlearn: 0.2219816\ttotal: 1.82s\tremaining: 58.3ms\n",
            "969:\tlearn: 0.2217510\ttotal: 1.82s\tremaining: 56.5ms\n",
            "970:\tlearn: 0.2217050\ttotal: 1.83s\tremaining: 54.6ms\n",
            "971:\tlearn: 0.2216047\ttotal: 1.83s\tremaining: 52.7ms\n",
            "972:\tlearn: 0.2214429\ttotal: 1.83s\tremaining: 50.8ms\n",
            "973:\tlearn: 0.2212613\ttotal: 1.83s\tremaining: 48.9ms\n",
            "974:\tlearn: 0.2211357\ttotal: 1.83s\tremaining: 47ms\n",
            "975:\tlearn: 0.2209784\ttotal: 1.83s\tremaining: 45.1ms\n",
            "976:\tlearn: 0.2207373\ttotal: 1.84s\tremaining: 43.2ms\n",
            "977:\tlearn: 0.2205896\ttotal: 1.84s\tremaining: 41.4ms\n",
            "978:\tlearn: 0.2202997\ttotal: 1.84s\tremaining: 39.5ms\n",
            "979:\tlearn: 0.2201128\ttotal: 1.84s\tremaining: 37.6ms\n",
            "980:\tlearn: 0.2200335\ttotal: 1.84s\tremaining: 35.7ms\n",
            "981:\tlearn: 0.2198026\ttotal: 1.84s\tremaining: 33.8ms\n",
            "982:\tlearn: 0.2197022\ttotal: 1.85s\tremaining: 32ms\n",
            "983:\tlearn: 0.2195725\ttotal: 1.85s\tremaining: 30.1ms\n",
            "984:\tlearn: 0.2193968\ttotal: 1.85s\tremaining: 28.2ms\n",
            "985:\tlearn: 0.2192916\ttotal: 1.85s\tremaining: 26.3ms\n",
            "986:\tlearn: 0.2191919\ttotal: 1.85s\tremaining: 24.4ms\n",
            "987:\tlearn: 0.2189865\ttotal: 1.86s\tremaining: 22.6ms\n",
            "988:\tlearn: 0.2189727\ttotal: 1.86s\tremaining: 20.7ms\n",
            "989:\tlearn: 0.2186866\ttotal: 1.86s\tremaining: 18.8ms\n",
            "990:\tlearn: 0.2184960\ttotal: 1.86s\tremaining: 16.9ms\n",
            "991:\tlearn: 0.2183757\ttotal: 1.86s\tremaining: 15ms\n",
            "992:\tlearn: 0.2181874\ttotal: 1.87s\tremaining: 13.2ms\n",
            "993:\tlearn: 0.2180233\ttotal: 1.87s\tremaining: 11.3ms\n",
            "994:\tlearn: 0.2179211\ttotal: 1.87s\tremaining: 9.41ms\n",
            "995:\tlearn: 0.2176540\ttotal: 1.88s\tremaining: 7.53ms\n",
            "996:\tlearn: 0.2174902\ttotal: 1.88s\tremaining: 5.65ms\n",
            "997:\tlearn: 0.2174559\ttotal: 1.88s\tremaining: 3.77ms\n",
            "998:\tlearn: 0.2174272\ttotal: 1.88s\tremaining: 1.88ms\n",
            "999:\tlearn: 0.2172170\ttotal: 1.88s\tremaining: 0us\n"
          ]
        },
        {
          "output_type": "execute_result",
          "data": {
            "text/plain": [
              "<catboost.core.CatBoostClassifier at 0x7f4d04f352e0>"
            ]
          },
          "metadata": {},
          "execution_count": 108
        }
      ]
    },
    {
      "cell_type": "code",
      "source": [
        "#mean 0\n",
        "y_pred=clf.predict(X_test) # 예측 라벨\n",
        "\n",
        "print(\"f1_score 각 분할의 정확도 기록 :\", f1_score(y_pred, y_test))"
      ],
      "metadata": {
        "id": "avBK2lLg4kVV",
        "colab": {
          "base_uri": "https://localhost:8080/"
        },
        "outputId": "40c58c72-69e8-4715-d930-a9fe6431f617"
      },
      "execution_count": null,
      "outputs": [
        {
          "output_type": "stream",
          "name": "stdout",
          "text": [
            "f1_score 각 분할의 정확도 기록 : 0.8113207547169812\n"
          ]
        }
      ]
    },
    {
      "cell_type": "code",
      "source": [
        "#mean 0\n",
        "y_pred=clf.predict(X_train) # 예측 라벨\n",
        "\n",
        "print(\"f1_score 각 분할의 정확도 기록 :\", f1_score(y_pred, y_train))"
      ],
      "metadata": {
        "id": "qIjgWLYV4kVW",
        "colab": {
          "base_uri": "https://localhost:8080/"
        },
        "outputId": "5136c8f0-1c75-42be-c456-6af4b7e65ac9"
      },
      "execution_count": null,
      "outputs": [
        {
          "output_type": "stream",
          "name": "stdout",
          "text": [
            "f1_score 각 분할의 정확도 기록 : 0.9473684210526316\n"
          ]
        }
      ]
    },
    {
      "cell_type": "code",
      "source": [
        "y_pred=clf.predict(test_df) # 예측 라벨\n",
        "\n",
        "print(y_pred)"
      ],
      "metadata": {
        "id": "8heswzJX4kVW",
        "colab": {
          "base_uri": "https://localhost:8080/"
        },
        "outputId": "8d8fd14a-26d2-4061-98c4-cfcd67d0b7b4"
      },
      "execution_count": null,
      "outputs": [
        {
          "output_type": "stream",
          "name": "stdout",
          "text": [
            "[1 1 0 0 1 1 1 1 1 1 0 1 1 0 0 1 1 0 1 0 1 1 0 1 0 1 1 0 1 0 1 0 1 1 1 1 0\n",
            " 0 1 1 1 1 1 1 1 1 1 1 1 0 1 1 1 1 1 1 1 0 0 1 1 1 1 1 1 1 1 1 1 1 1 1 1 1\n",
            " 1 1 1 1 1 0 1 0 1 0 0 0 1 0 1 0 0 0 1 0 1 1 1 1 1 1 1 1 1 0 0 1 0 0 1 0 1\n",
            " 1 1 0 0 1 0 0 1 1 0 1 1 1 1 1 1 0 0 1 1 1 0 0 1 0 0 0 0 0 0 0 1 0 0 1 1 1\n",
            " 0 0 1 1 0 0 0 0 0 0 0 1 1 1 0 0 0 0 0 1 0 1 0 1 0 0 0 1 0 0 1 0 1 0 0 0 1\n",
            " 0 1 0 0 0 0 1 0 0 0 0 0 0 0 0 0 0 0 0 0 0 1 0 0 1 0 0 1 1 0 1 0 0 0 0 0 1\n",
            " 0 0 1 0 1 0 0 0 0 0 1 0 1 1 1 0 1 0 1 1 0 0 0 1 0 0 0 0]\n"
          ]
        }
      ]
    },
    {
      "cell_type": "code",
      "source": [
        "submit = pd.read_csv('/content/drive/MyDrive/sample_submission_cancer_cls.csv')\n",
        "submit['N_category'] = y_pred\n",
        "submit.to_csv('./CatBoost_submit_median.csv', index=False)"
      ],
      "metadata": {
        "id": "4WiiQ8-G4kVW"
      },
      "execution_count": null,
      "outputs": []
    },
    {
      "cell_type": "code",
      "source": [],
      "metadata": {
        "id": "62UZk1U94udu"
      },
      "execution_count": null,
      "outputs": []
    },
    {
      "cell_type": "code",
      "source": [],
      "metadata": {
        "id": "WqRDgsdD49ti"
      },
      "execution_count": null,
      "outputs": []
    },
    {
      "cell_type": "code",
      "source": [
        "clf = GradientBoostingClassifier() # 모델 선언\n",
        "\n",
        "clf.fit(X_train,y_train) # 모델 학습"
      ],
      "metadata": {
        "id": "ppAJvkdh4936"
      },
      "execution_count": null,
      "outputs": []
    },
    {
      "cell_type": "code",
      "source": [
        "#mean 0\n",
        "y_pred=clf.predict(X_test) # 예측 라벨\n",
        "\n",
        "print(\"f1_score 각 분할의 정확도 기록 :\", f1_score(y_pred, y_test))"
      ],
      "metadata": {
        "id": "IoYTXBJt4936"
      },
      "execution_count": null,
      "outputs": []
    },
    {
      "cell_type": "code",
      "source": [
        "#mean 0\n",
        "y_pred=clf.predict(X_train) # 예측 라벨\n",
        "\n",
        "print(\"f1_score 각 분할의 정확도 기록 :\", f1_score(y_pred, y_train))"
      ],
      "metadata": {
        "id": "uue9BKGN4936"
      },
      "execution_count": null,
      "outputs": []
    },
    {
      "cell_type": "code",
      "source": [
        "y_pred=clf.predict(test_df) # 예측 라벨\n",
        "\n",
        "print(y_pred)"
      ],
      "metadata": {
        "id": "XhVqUEUl4937"
      },
      "execution_count": null,
      "outputs": []
    },
    {
      "cell_type": "code",
      "source": [
        "submit = pd.read_csv('/content/drive/MyDrive/sample_submission_cancer_cls.csv')\n",
        "submit['N_category'] = y_pred\n",
        "submit.to_csv('./GradientBoosting_submit.csv', index=False)"
      ],
      "metadata": {
        "id": "D3dcXZze4937"
      },
      "execution_count": null,
      "outputs": []
    },
    {
      "cell_type": "code",
      "source": [],
      "metadata": {
        "id": "RbdoTJmRG0lH"
      },
      "execution_count": null,
      "outputs": []
    },
    {
      "cell_type": "code",
      "source": [],
      "metadata": {
        "id": "HVzqt9sTG0iL"
      },
      "execution_count": null,
      "outputs": []
    },
    {
      "cell_type": "code",
      "source": [
        "clf = CatBoostClassifier() # 모델 선언\n",
        "\n",
        "clf.fit(X_train,y_train) # 모델 학습"
      ],
      "metadata": {
        "id": "gPw8-qlnG1LW"
      },
      "execution_count": null,
      "outputs": []
    },
    {
      "cell_type": "code",
      "source": [
        "#mean 0\n",
        "y_pred=clf.predict(X_test) # 예측 라벨\n",
        "\n",
        "print(\"f1_score 각 분할의 정확도 기록 :\", f1_score(y_pred, y_test))"
      ],
      "metadata": {
        "id": "NO8Ee3iGG1LW"
      },
      "execution_count": null,
      "outputs": []
    },
    {
      "cell_type": "code",
      "source": [
        "#mean 0\n",
        "y_pred=clf.predict(X_train) # 예측 라벨\n",
        "\n",
        "print(\"f1_score 각 분할의 정확도 기록 :\", f1_score(y_pred, y_train))"
      ],
      "metadata": {
        "id": "PSITvBLKG1LW"
      },
      "execution_count": null,
      "outputs": []
    },
    {
      "cell_type": "code",
      "source": [
        "y_pred=clf.predict(test_df) # 예측 라벨\n",
        "\n",
        "print(y_pred)"
      ],
      "metadata": {
        "id": "ODJcxPb9G1LW"
      },
      "execution_count": null,
      "outputs": []
    },
    {
      "cell_type": "code",
      "source": [
        "submit = pd.read_csv('/content/drive/MyDrive/sample_submission_cancer_cls.csv')\n",
        "submit['N_category'] = y_pred\n",
        "submit.to_csv('./CatBoost_submit.csv', index=False)"
      ],
      "metadata": {
        "id": "_KYG9uaZG1LW"
      },
      "execution_count": null,
      "outputs": []
    },
    {
      "cell_type": "code",
      "source": [],
      "metadata": {
        "id": "tOpqv1xxG1LW"
      },
      "execution_count": null,
      "outputs": []
    },
    {
      "cell_type": "code",
      "source": [],
      "metadata": {
        "id": "hPVwFnqWG1LX"
      },
      "execution_count": null,
      "outputs": []
    },
    {
      "cell_type": "code",
      "source": [
        "clf =lgb.LGBMClassifier()\n",
        "clf.fit(X_train,y_train) # 모델 학습"
      ],
      "metadata": {
        "id": "aE6hjTusG1LX"
      },
      "execution_count": null,
      "outputs": []
    },
    {
      "cell_type": "code",
      "source": [
        "#mean 0\n",
        "y_pred=clf.predict(X_test) # 예측 라벨\n",
        "\n",
        "print(\"f1_score 각 분할의 정확도 기록 :\", f1_score(y_pred, y_test))"
      ],
      "metadata": {
        "id": "xMG1J3vyG1LX"
      },
      "execution_count": null,
      "outputs": []
    },
    {
      "cell_type": "code",
      "source": [
        "#mean 0\n",
        "y_pred=clf.predict(X_train) # 예측 라벨\n",
        "\n",
        "print(\"f1_score 각 분할의 정확도 기록 :\", f1_score(y_pred, y_train))"
      ],
      "metadata": {
        "id": "Aha6eKI-G1LX"
      },
      "execution_count": null,
      "outputs": []
    },
    {
      "cell_type": "code",
      "source": [
        "y_pred=clf.predict(test_df) # 예측 라벨\n",
        "\n",
        "print(y_pred)"
      ],
      "metadata": {
        "id": "x0D_pMGmG1LX"
      },
      "execution_count": null,
      "outputs": []
    },
    {
      "cell_type": "code",
      "source": [
        "submit = pd.read_csv('/content/drive/MyDrive/sample_submission_cancer_cls.csv')\n",
        "submit['N_category'] = y_pred\n",
        "submit.to_csv('./LGBMClassifier.csv', index=False)"
      ],
      "metadata": {
        "id": "wLdvxZvuG1LX"
      },
      "execution_count": null,
      "outputs": []
    },
    {
      "cell_type": "code",
      "source": [],
      "metadata": {
        "id": "ebmc9nekUw9B"
      },
      "execution_count": null,
      "outputs": []
    },
    {
      "cell_type": "code",
      "source": [],
      "metadata": {
        "id": "ZS7-xRYoUw1S"
      },
      "execution_count": null,
      "outputs": []
    },
    {
      "cell_type": "code",
      "source": [
        "clf = AdaBoostClassifier() # 모델 선언\n",
        "\n",
        "clf.fit(X_train,y_train) # 모델 학습"
      ],
      "metadata": {
        "id": "1GSe9S8VUxJO",
        "colab": {
          "base_uri": "https://localhost:8080/"
        },
        "outputId": "28c32a5e-6676-4d4a-c6ee-80832a422804"
      },
      "execution_count": null,
      "outputs": [
        {
          "output_type": "execute_result",
          "data": {
            "text/plain": [
              "AdaBoostClassifier()"
            ]
          },
          "metadata": {},
          "execution_count": 79
        }
      ]
    },
    {
      "cell_type": "code",
      "source": [
        "#mean 0\n",
        "y_pred=clf.predict(X_test) # 예측 라벨\n",
        "\n",
        "print(\"f1_score 각 분할의 정확도 기록 :\", f1_score(y_pred, y_test))"
      ],
      "metadata": {
        "id": "SrBXbwquUxJO",
        "colab": {
          "base_uri": "https://localhost:8080/"
        },
        "outputId": "5a22cf67-6962-4c61-9375-0f53c16f82f9"
      },
      "execution_count": null,
      "outputs": [
        {
          "output_type": "stream",
          "name": "stdout",
          "text": [
            "f1_score 각 분할의 정확도 기록 : 0.8000000000000002\n"
          ]
        }
      ]
    },
    {
      "cell_type": "code",
      "source": [
        "#mean 0\n",
        "y_pred=clf.predict(X_train) # 예측 라벨\n",
        "\n",
        "print(\"f1_score 각 분할의 정확도 기록 :\", f1_score(y_pred, y_train))"
      ],
      "metadata": {
        "id": "tMg6RmHRUxJO",
        "colab": {
          "base_uri": "https://localhost:8080/"
        },
        "outputId": "afae185d-15d8-4637-b8cc-581aa6c4a7cd"
      },
      "execution_count": null,
      "outputs": [
        {
          "output_type": "stream",
          "name": "stdout",
          "text": [
            "f1_score 각 분할의 정확도 기록 : 0.8016877637130801\n"
          ]
        }
      ]
    },
    {
      "cell_type": "code",
      "source": [
        "y_pred=clf.predict(test_df) # 예측 라벨\n",
        "\n",
        "print(y_pred)"
      ],
      "metadata": {
        "id": "vYtgasOFUxJP",
        "colab": {
          "base_uri": "https://localhost:8080/"
        },
        "outputId": "b4ce4ad1-62c9-45a2-a927-c93ede352e51"
      },
      "execution_count": null,
      "outputs": [
        {
          "output_type": "stream",
          "name": "stdout",
          "text": [
            "[1 0 0 0 1 1 1 1 1 1 1 0 1 1 0 1 1 0 1 0 1 1 0 1 0 1 1 0 1 1 1 0 1 1 1 1 0\n",
            " 1 1 1 1 1 1 1 1 1 1 1 1 0 1 1 1 1 1 1 1 0 0 1 1 1 1 1 1 1 1 1 1 1 1 1 1 1\n",
            " 1 1 0 1 1 0 1 0 1 0 0 0 1 0 1 0 0 0 1 0 1 1 1 1 1 1 1 1 1 0 0 1 0 0 1 0 1\n",
            " 1 1 0 0 1 0 0 1 1 1 1 0 1 1 1 1 0 1 1 1 1 0 0 1 0 0 0 0 1 0 1 1 0 1 1 0 0\n",
            " 0 1 1 1 0 0 0 0 0 0 1 1 1 1 0 1 0 0 0 0 0 0 0 1 0 0 0 0 0 0 1 1 1 0 0 0 1\n",
            " 0 0 0 0 0 0 1 1 1 1 0 0 0 1 0 0 0 0 0 0 1 0 0 0 0 1 0 1 1 0 1 0 0 0 0 0 1\n",
            " 1 0 1 0 1 1 0 1 0 1 1 0 1 0 0 0 1 1 1 1 0 0 0 1 0 0 0 0]\n"
          ]
        }
      ]
    },
    {
      "cell_type": "code",
      "source": [
        "submit = pd.read_csv('/content/drive/MyDrive/sample_submission_cancer_cls.csv')\n",
        "submit['N_category'] = y_pred\n",
        "submit.to_csv('./AdaBoost_submit_(1_9train_test_split).csv', index=False)"
      ],
      "metadata": {
        "id": "Q1lqRgZUUxJP"
      },
      "execution_count": null,
      "outputs": []
    },
    {
      "cell_type": "code",
      "source": [],
      "metadata": {
        "id": "FcWkDxGuWMD1"
      },
      "execution_count": null,
      "outputs": []
    },
    {
      "cell_type": "code",
      "source": [],
      "metadata": {
        "id": "Zwa9gMrIWMBQ"
      },
      "execution_count": null,
      "outputs": []
    },
    {
      "cell_type": "code",
      "source": [
        "clf = ExtraTreesClassifier() # 모델 선언\n",
        "\n",
        "clf.fit(X_train,y_train) # 모델 학습"
      ],
      "metadata": {
        "id": "YfGlw1x8WMS8"
      },
      "execution_count": null,
      "outputs": []
    },
    {
      "cell_type": "code",
      "source": [
        "#mean 0\n",
        "y_pred=clf.predict(X_test) # 예측 라벨\n",
        "\n",
        "print(\"f1_score 각 분할의 정확도 기록 :\", f1_score(y_pred, y_test))"
      ],
      "metadata": {
        "id": "3BwrcvhUWMS9"
      },
      "execution_count": null,
      "outputs": []
    },
    {
      "cell_type": "code",
      "source": [
        "#mean 0\n",
        "y_pred=clf.predict(X_train) # 예측 라벨\n",
        "\n",
        "print(\"f1_score 각 분할의 정확도 기록 :\", f1_score(y_pred, y_train))"
      ],
      "metadata": {
        "id": "aiWbPUOMWMS9"
      },
      "execution_count": null,
      "outputs": []
    },
    {
      "cell_type": "code",
      "source": [
        "y_pred=clf.predict(test_df) # 예측 라벨\n",
        "\n",
        "print(y_pred)"
      ],
      "metadata": {
        "id": "mE0TPqYUWMS9"
      },
      "execution_count": null,
      "outputs": []
    },
    {
      "cell_type": "code",
      "source": [
        "submit = pd.read_csv('/content/drive/MyDrive/sample_submission_cancer_cls.csv')\n",
        "submit['N_category'] = y_pred\n",
        "submit.to_csv('./ExtraTreesClassifier_submit.csv', index=False)"
      ],
      "metadata": {
        "id": "9gPUluGQWMS9"
      },
      "execution_count": null,
      "outputs": []
    },
    {
      "cell_type": "code",
      "source": [],
      "metadata": {
        "id": "FZQgrfHhSRuJ"
      },
      "execution_count": null,
      "outputs": []
    },
    {
      "cell_type": "code",
      "source": [
        "clf = RidgeClassifier() # 모델 선언\n",
        "\n",
        "clf.fit(X_train,y_train) # 모델 학습"
      ],
      "metadata": {
        "colab": {
          "base_uri": "https://localhost:8080/"
        },
        "id": "6XmXBS8-SUIh",
        "outputId": "042756ae-40a9-4767-a992-67c6cd605ec7"
      },
      "execution_count": null,
      "outputs": [
        {
          "output_type": "execute_result",
          "data": {
            "text/plain": [
              "RidgeClassifier()"
            ]
          },
          "metadata": {},
          "execution_count": 92
        }
      ]
    },
    {
      "cell_type": "code",
      "source": [
        "#mean 0\n",
        "y_pred=clf.predict(X_test) # 예측 라벨\n",
        "\n",
        "print(\"f1_score 각 분할의 정확도 기록 :\", f1_score(y_pred, y_test))"
      ],
      "metadata": {
        "colab": {
          "base_uri": "https://localhost:8080/"
        },
        "id": "-Mzix7rbSUIh",
        "outputId": "5aba838a-6afb-4fec-8204-8dc13796970d"
      },
      "execution_count": null,
      "outputs": [
        {
          "output_type": "stream",
          "name": "stdout",
          "text": [
            "f1_score 각 분할의 정확도 기록 : 0.7735849056603773\n"
          ]
        }
      ]
    },
    {
      "cell_type": "code",
      "source": [
        "#mean 0\n",
        "y_pred=clf.predict(X_train) # 예측 라벨\n",
        "\n",
        "print(\"f1_score 각 분할의 정확도 기록 :\", f1_score(y_pred, y_train))"
      ],
      "metadata": {
        "colab": {
          "base_uri": "https://localhost:8080/"
        },
        "id": "pS4HHPUUSUIh",
        "outputId": "a257cfc2-dc3e-4f0b-b69c-6e8207637933"
      },
      "execution_count": null,
      "outputs": [
        {
          "output_type": "stream",
          "name": "stdout",
          "text": [
            "f1_score 각 분할의 정확도 기록 : 0.7826086956521741\n"
          ]
        }
      ]
    },
    {
      "cell_type": "code",
      "source": [
        "y_pred=clf.predict(test_df) # 예측 라벨\n",
        "\n",
        "print(y_pred)"
      ],
      "metadata": {
        "colab": {
          "base_uri": "https://localhost:8080/"
        },
        "id": "F_riEP-0SUIh",
        "outputId": "9f416898-22c5-4703-f200-77ccb6758afb"
      },
      "execution_count": null,
      "outputs": [
        {
          "output_type": "stream",
          "name": "stdout",
          "text": [
            "[0 0 0 0 1 1 1 1 0 1 1 0 1 1 0 1 1 0 1 0 1 1 0 1 0 1 1 0 1 1 1 0 1 1 1 1 0\n",
            " 0 1 0 1 1 1 1 1 1 1 1 1 0 1 1 0 1 1 1 1 0 0 1 1 1 1 1 1 1 1 1 1 1 1 1 1 1\n",
            " 1 1 0 1 1 0 1 0 1 0 0 0 1 1 1 0 0 0 1 0 1 1 1 1 1 1 1 1 1 0 0 1 0 0 1 0 1\n",
            " 1 1 0 0 1 0 0 1 1 0 1 0 1 1 0 1 0 1 1 1 1 0 0 1 0 0 1 0 0 0 0 1 0 0 1 1 0\n",
            " 1 0 1 1 0 0 0 0 0 0 1 1 1 1 1 0 0 0 0 1 1 0 0 1 0 1 0 0 0 1 1 1 1 0 0 0 1\n",
            " 0 0 0 0 0 0 1 1 1 1 1 0 1 0 0 0 0 0 0 1 0 0 0 0 1 1 0 0 1 0 1 0 0 0 1 0 1\n",
            " 1 0 0 0 1 1 0 0 0 1 0 0 0 0 1 0 1 1 0 0 0 0 0 0 0 0 0 0]\n"
          ]
        }
      ]
    },
    {
      "cell_type": "code",
      "source": [
        "submit = pd.read_csv('/content/drive/MyDrive/sample_submission_cancer_cls.csv')\n",
        "submit['N_category'] = y_pred\n",
        "submit.to_csv('./RidgeClassifier_submit.csv', index=False)"
      ],
      "metadata": {
        "id": "rjTNlWWgSUIh"
      },
      "execution_count": null,
      "outputs": []
    }
  ]
}